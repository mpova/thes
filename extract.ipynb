{
 "cells": [
  {
   "cell_type": "code",
   "execution_count": 29,
   "id": "4081a4fe",
   "metadata": {},
   "outputs": [],
   "source": [
    "import time\n",
    "import pandas as pd\n",
    "import matplotlib.pyplot as plt\n",
    "\n",
    "from selenium import webdriver\n",
    "from selenium.webdriver.chrome.service import Service\n",
    "from selenium.webdriver.chrome.options import Options\n",
    "from selenium.webdriver.common.by import By\n",
    "from selenium.webdriver.support.ui import WebDriverWait\n",
    "from selenium.webdriver.support import expected_conditions as EC\n",
    "from webdriver_manager.chrome import ChromeDriverManager\n",
    "\n"
   ]
  },
  {
   "cell_type": "code",
   "execution_count": 40,
   "id": "bc821896",
   "metadata": {},
   "outputs": [],
   "source": [
    "# Configure the webdriver\n",
    "options = Options()\n",
    "options.add_argument('--headless')\n",
    "#chrome_path = ChromeDriverManager().install() \n",
    "#chrome_service = Service(chrome_path) \n",
    "driver = webdriver.Chrome(executable_path=ChromeDriverManager().install(), options=options)\n",
    "driver.implicitly_wait(5)\n",
    "\n",
    "# Navigate to the webpage\n",
    "url = 'https://ezdata.m5stack.com/share/?type=table&sid=86WVOhM6Qse0cOu1Sl9oMTgqCudJjVNx'\n",
    "driver.get(url)\n",
    "\n",
    "# Wait for the table to load and retrieve its content\n",
    "time.sleep(10)"
   ]
  },
  {
   "cell_type": "code",
   "execution_count": 8,
   "id": "5540ac31",
   "metadata": {},
   "outputs": [
    {
     "data": {
      "image/png": "[encoded data removed]",
      "text/plain": [
       "<Figure size 432x288 with 1 Axes>"
      ]
     },
     "metadata": {
      "needs_background": "light"
     },
     "output_type": "display_data"
    }
   ],
   "source": [
    "table = WebDriverWait(driver, 60).until(\n",
    "    EC.presence_of_element_located((By.CSS_SELECTOR, \"div[class='container'\"))\n",
    ")\n",
    "table_html = table.get_attribute('innerHTML')\n",
    "\n",
    "# Close the webdriver\n",
    "driver.quit()\n",
    "\n",
    "# Convert the HTML table to a Pandas DataFrame\n",
    "dframes = pd.read_html(table_html, header=0)\n",
    "\n",
    "df = dframes[0]\n",
    "\n",
    "df.to_csv('output.csv', index=False)\n",
    "\n",
    "\n",
    "df.plot(x='Datetime', y='Value', kind='line')\n",
    "plt.show()"
   ]
  },
  {
   "cell_type": "code",
   "execution_count": 9,
   "id": "7090081b",
   "metadata": {},
   "outputs": [
    {
     "data": {
      "text/html": [
       "<div>\n",
       "<style scoped>\n",
       "    .dataframe tbody tr th:only-of-type {\n",
       "        vertical-align: middle;\n",
       "    }\n",
       "\n",
       "    .dataframe tbody tr th {\n",
       "        vertical-align: top;\n",
       "    }\n",
       "\n",
       "    .dataframe thead th {\n",
       "        text-align: right;\n",
       "    }\n",
       "</style>\n",
       "<table border=\"1\" class=\"dataframe\">\n",
       "  <thead>\n",
       "    <tr style=\"text-align: right;\">\n",
       "      <th></th>\n",
       "      <th>Datetime</th>\n",
       "      <th>Value</th>\n",
       "    </tr>\n",
       "  </thead>\n",
       "  <tbody>\n",
       "    <tr>\n",
       "      <th>0</th>\n",
       "      <td>2023-03-03 17:27:45</td>\n",
       "      <td>2514</td>\n",
       "    </tr>\n",
       "    <tr>\n",
       "      <th>1</th>\n",
       "      <td>2023-03-03 17:27:06</td>\n",
       "      <td>2514</td>\n",
       "    </tr>\n",
       "    <tr>\n",
       "      <th>2</th>\n",
       "      <td>2023-03-03 17:26:42</td>\n",
       "      <td>2514</td>\n",
       "    </tr>\n",
       "    <tr>\n",
       "      <th>3</th>\n",
       "      <td>2023-03-03 17:26:12</td>\n",
       "      <td>2513</td>\n",
       "    </tr>\n",
       "    <tr>\n",
       "      <th>4</th>\n",
       "      <td>2023-03-03 17:25:47</td>\n",
       "      <td>2517</td>\n",
       "    </tr>\n",
       "    <tr>\n",
       "      <th>...</th>\n",
       "      <td>...</td>\n",
       "      <td>...</td>\n",
       "    </tr>\n",
       "    <tr>\n",
       "      <th>995</th>\n",
       "      <td>2023-03-03 11:39:47</td>\n",
       "      <td>2168</td>\n",
       "    </tr>\n",
       "    <tr>\n",
       "      <th>996</th>\n",
       "      <td>2023-03-03 11:39:43</td>\n",
       "      <td>2171</td>\n",
       "    </tr>\n",
       "    <tr>\n",
       "      <th>997</th>\n",
       "      <td>2023-03-03 11:39:40</td>\n",
       "      <td>2169</td>\n",
       "    </tr>\n",
       "    <tr>\n",
       "      <th>998</th>\n",
       "      <td>2023-03-03 11:39:36</td>\n",
       "      <td>2171</td>\n",
       "    </tr>\n",
       "    <tr>\n",
       "      <th>999</th>\n",
       "      <td>2023-03-03 11:39:33</td>\n",
       "      <td>2169</td>\n",
       "    </tr>\n",
       "  </tbody>\n",
       "</table>\n",
       "<p>1000 rows × 2 columns</p>\n",
       "</div>"
      ],
      "text/plain": [
       "                Datetime  Value\n",
       "0    2023-03-03 17:27:45   2514\n",
       "1    2023-03-03 17:27:06   2514\n",
       "2    2023-03-03 17:26:42   2514\n",
       "3    2023-03-03 17:26:12   2513\n",
       "4    2023-03-03 17:25:47   2517\n",
       "..                   ...    ...\n",
       "995  2023-03-03 11:39:47   2168\n",
       "996  2023-03-03 11:39:43   2171\n",
       "997  2023-03-03 11:39:40   2169\n",
       "998  2023-03-03 11:39:36   2171\n",
       "999  2023-03-03 11:39:33   2169\n",
       "\n",
       "[1000 rows x 2 columns]"
      ]
     },
     "execution_count": 9,
     "metadata": {},
     "output_type": "execute_result"
    }
   ],
   "source": [
    "df"
   ]
  },
  {
   "cell_type": "markdown",
   "id": "76978739",
   "metadata": {},
   "source": [
    "# Extract function"
   ]
  },
  {
   "cell_type": "code",
   "execution_count": 30,
   "id": "0bf89562",
   "metadata": {},
   "outputs": [],
   "source": [
    "links = {\n",
    "    \n",
    "    \"humi_s1\": \"https://ezdata.m5stack.com/share/?type=table&sid=zXL3mxFblyp1TD8SgVgc8Q90oJc3hf2L\",\n",
    "    \"humi_s2\": \"https://ezdata.m5stack.com/share/?type=table&sid=XwfzH0WqqgwQByxyek1HV7PY7zKXka59\",\n",
    "    \"humi_s3\": \"https://ezdata.m5stack.com/share/?type=table&sid=7zWXgs8g2YYRXffQ3X2JRXjLqxMCadH8\",\n",
    "    \"humi_s4\": \"https://ezdata.m5stack.com/share/?type=table&sid=AE9ICEBuQsGUj5QsHs2V9zTbLAnf9sfV\",\n",
    "    \"press_s1\": \"https://ezdata.m5stack.com/share/?type=table&sid=V1h6alrl64M8d00GPEOEmVY8rC1n4bLH\",\n",
    "    \"press_s2\": \"https://ezdata.m5stack.com/share/?type=table&sid=Vy3oUOdmaqS4rMyLqLVfam9g20H4Xjck\",\n",
    "    \"press_s3\": \"https://ezdata.m5stack.com/share/?type=table&sid=2IbXmDNSRvZna4LZqLTOrT3o7K5BYh31\",\n",
    "    \"press_s4\": \"https://ezdata.m5stack.com/share/?type=table&sid=17XVd1SN4zlrldTBROuBMV3R1ZVl1Zfy\",\n",
    "    \"temp_s1\": \"https://ezdata.m5stack.com/share/?type=table&sid=Fx2vw3lSjMhMD3lvVfwxrs4DYjfIgAgs\",\n",
    "    \"temp_s2\": \"https://ezdata.m5stack.com/share/?type=table&sid=86WVOhM6Qse0cOu1Sl9oMTgqCudJjVNx\",\n",
    "    \"temp_s3\": \"https://ezdata.m5stack.com/share/?type=table&sid=PT0DoamEzvruT69FIN0vj4cIQfxNI8UJ\",\n",
    "    \"temp_s4\": \"https://ezdata.m5stack.com/share/?type=table&sid=FtI1KRN9qcCwVoJYaXQva2q0nc69i0mT\"\n",
    "}"
   ]
  },
  {
   "cell_type": "code",
   "execution_count": 39,
   "id": "1ef09b3f",
   "metadata": {},
   "outputs": [
    {
     "data": {
      "text/plain": [
       "['humi_s1',\n",
       " 'humi_s2',\n",
       " 'humi_s3',\n",
       " 'humi_s4',\n",
       " 'press_s1',\n",
       " 'press_s2',\n",
       " 'press_s3',\n",
       " 'press_s4',\n",
       " 'temp_s1',\n",
       " 'temp_s2',\n",
       " 'temp_s3',\n",
       " 'temp_s4']"
      ]
     },
     "execution_count": 39,
     "metadata": {},
     "output_type": "execute_result"
    }
   ],
   "source": [
    "list(links.keys())"
   ]
  },
  {
   "cell_type": "code",
   "execution_count": 37,
   "id": "31312459",
   "metadata": {},
   "outputs": [],
   "source": [
    "def extract(url, sensor):\n",
    "    # Configure the webdriver\n",
    "    options = Options()\n",
    "    options.add_argument('--headless')\n",
    "    #chrome_path = ChromeDriverManager().install() \n",
    "    #chrome_service = Service(chrome_path) \n",
    "    driver = webdriver.Chrome(executable_path=ChromeDriverManager().install(), options=options)\n",
    "    driver.implicitly_wait(5)\n",
    "\n",
    "    # Navigate to the webpage\n",
    "    #url = 'https://ezdata.m5stack.com/share/?type=table&sid=86WVOhM6Qse0cOu1Sl9oMTgqCudJjVNx'\n",
    "    driver.get(url)\n",
    "\n",
    "    # Wait for the table to load and retrieve its content\n",
    "    time.sleep(10)\n",
    "    table = WebDriverWait(driver, 60).until(\n",
    "    EC.presence_of_element_located((By.CSS_SELECTOR, \"div[class='container'\"))\n",
    "    )\n",
    "    table_html = table.get_attribute('innerHTML')\n",
    "\n",
    "    # Close the webdriver\n",
    "    driver.quit()\n",
    "\n",
    "    # Convert the HTML table to a Pandas DataFrame\n",
    "    dframes = pd.read_html(table_html, header=0)\n",
    "\n",
    "    df = dframes[0]\n",
    "\n",
    "    df.to_csv(\"output_\" + sensor + \".csv\", index=False)\n",
    "    return df"
   ]
  },
  {
   "cell_type": "code",
   "execution_count": null,
   "id": "96b633d3",
   "metadata": {},
   "outputs": [],
   "source": []
  },
  {
   "cell_type": "code",
   "execution_count": 38,
   "id": "a0678791",
   "metadata": {},
   "outputs": [],
   "source": [
    "for sensor in list(links.keys()):\n",
    "    df = extract(link[sensor], sensor)"
   ]
  },
  {
   "cell_type": "code",
   "execution_count": null,
   "id": "a54e1acf",
   "metadata": {},
   "outputs": [],
   "source": []
  },
  {
   "cell_type": "code",
   "execution_count": null,
   "id": "d1109d6a",
   "metadata": {},
   "outputs": [],
   "source": []
  },
  {
   "cell_type": "code",
   "execution_count": null,
   "id": "cd3dbe35",
   "metadata": {},
   "outputs": [],
   "source": []
  },
  {
   "cell_type": "code",
   "execution_count": null,
   "id": "fe186645",
   "metadata": {},
   "outputs": [],
   "source": []
  }
 ],
 "metadata": {
  "kernelspec": {
   "display_name": "Python 3",
   "language": "python",
   "name": "python3"
  },
  "language_info": {
   "codemirror_mode": {
    "name": "ipython",
    "version": 3
   },
   "file_extension": ".py",
   "mimetype": "text/x-python",
   "name": "python",
   "nbconvert_exporter": "python",
   "pygments_lexer": "ipython3",
   "version": "3.8.8"
  }
 },
 "nbformat": 4,
 "nbformat_minor": 5
}
