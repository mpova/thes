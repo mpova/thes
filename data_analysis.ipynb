{
 "cells": [
  {
   "cell_type": "code",
   "execution_count": null,
   "metadata": {},
   "outputs": [],
   "source": [
    "!pip "
   ]
  },
  {
   "cell_type": "code",
   "execution_count": 188,
   "metadata": {},
   "outputs": [],
   "source": [
    "import pandas as pd\n",
    "import numpy as np\n",
    "import time\n",
    "import seaborn as sns"
   ]
  },
  {
   "cell_type": "code",
   "execution_count": 191,
   "metadata": {},
   "outputs": [
    {
     "name": "stdout",
     "output_type": "stream",
     "text": [
      "(9921, 16)\n"
     ]
    },
    {
     "data": {
      "text/html": [
       "<div>\n",
       "<style scoped>\n",
       "    .dataframe tbody tr th:only-of-type {\n",
       "        vertical-align: middle;\n",
       "    }\n",
       "\n",
       "    .dataframe tbody tr th {\n",
       "        vertical-align: top;\n",
       "    }\n",
       "\n",
       "    .dataframe thead th {\n",
       "        text-align: right;\n",
       "    }\n",
       "</style>\n",
       "<table border=\"1\" class=\"dataframe\">\n",
       "  <thead>\n",
       "    <tr style=\"text-align: right;\">\n",
       "      <th></th>\n",
       "      <th>time</th>\n",
       "      <th>humi_s101</th>\n",
       "      <th>humi_s1021</th>\n",
       "      <th>humi_s1022</th>\n",
       "      <th>humi_s103</th>\n",
       "      <th>press_s101</th>\n",
       "      <th>press_s1021</th>\n",
       "      <th>press_s1022</th>\n",
       "      <th>press_s103</th>\n",
       "      <th>temp_s101</th>\n",
       "      <th>temp_s1021</th>\n",
       "      <th>temp_s1022</th>\n",
       "      <th>temp_s103</th>\n",
       "      <th>next_stop_101_type</th>\n",
       "      <th>next_stop_101_information</th>\n",
       "      <th>RUL_101</th>\n",
       "    </tr>\n",
       "  </thead>\n",
       "  <tbody>\n",
       "    <tr>\n",
       "      <th>0</th>\n",
       "      <td>2023-03-07 08:29:58.000000</td>\n",
       "      <td>NaN</td>\n",
       "      <td>21474836.47</td>\n",
       "      <td>0.0</td>\n",
       "      <td>44.37</td>\n",
       "      <td>974.28</td>\n",
       "      <td>3462.51</td>\n",
       "      <td>0.0</td>\n",
       "      <td>-3538.14</td>\n",
       "      <td>24.79</td>\n",
       "      <td>19.69</td>\n",
       "      <td>0.0</td>\n",
       "      <td>21.73</td>\n",
       "      <td>Reparatör på plats</td>\n",
       "      <td>101. Drivning påläggningsdorn</td>\n",
       "      <td>0 days 00:15:02.202000</td>\n",
       "    </tr>\n",
       "    <tr>\n",
       "      <th>1</th>\n",
       "      <td>2023-03-07 08:30:26.000000</td>\n",
       "      <td>NaN</td>\n",
       "      <td>21474836.47</td>\n",
       "      <td>0.0</td>\n",
       "      <td>44.48</td>\n",
       "      <td>974.43</td>\n",
       "      <td>3462.51</td>\n",
       "      <td>0.0</td>\n",
       "      <td>-3538.14</td>\n",
       "      <td>24.69</td>\n",
       "      <td>19.69</td>\n",
       "      <td>0.0</td>\n",
       "      <td>21.73</td>\n",
       "      <td>Reparatör på plats</td>\n",
       "      <td>101. Drivning påläggningsdorn</td>\n",
       "      <td>0 days 00:14:34.202000</td>\n",
       "    </tr>\n",
       "    <tr>\n",
       "      <th>2</th>\n",
       "      <td>2023-03-07 08:30:56.000000</td>\n",
       "      <td>NaN</td>\n",
       "      <td>21474836.47</td>\n",
       "      <td>0.0</td>\n",
       "      <td>44.15</td>\n",
       "      <td>974.49</td>\n",
       "      <td>3462.51</td>\n",
       "      <td>0.0</td>\n",
       "      <td>-3538.14</td>\n",
       "      <td>24.69</td>\n",
       "      <td>19.73</td>\n",
       "      <td>0.0</td>\n",
       "      <td>21.74</td>\n",
       "      <td>Reparatör på plats</td>\n",
       "      <td>101. Drivning påläggningsdorn</td>\n",
       "      <td>0 days 00:14:04.202000</td>\n",
       "    </tr>\n",
       "    <tr>\n",
       "      <th>3</th>\n",
       "      <td>2023-03-07 08:30:56.000000</td>\n",
       "      <td>NaN</td>\n",
       "      <td>21474836.47</td>\n",
       "      <td>0.0</td>\n",
       "      <td>43.88</td>\n",
       "      <td>974.18</td>\n",
       "      <td>3462.51</td>\n",
       "      <td>0.0</td>\n",
       "      <td>-3538.14</td>\n",
       "      <td>24.54</td>\n",
       "      <td>75.14</td>\n",
       "      <td>0.0</td>\n",
       "      <td>21.76</td>\n",
       "      <td>Reparatör på plats</td>\n",
       "      <td>101. Drivning påläggningsdorn</td>\n",
       "      <td>0 days 00:14:04.202000</td>\n",
       "    </tr>\n",
       "    <tr>\n",
       "      <th>4</th>\n",
       "      <td>2023-03-07 08:31:23.000000</td>\n",
       "      <td>NaN</td>\n",
       "      <td>21474836.47</td>\n",
       "      <td>0.0</td>\n",
       "      <td>44.16</td>\n",
       "      <td>974.14</td>\n",
       "      <td>3462.51</td>\n",
       "      <td>0.0</td>\n",
       "      <td>-3538.14</td>\n",
       "      <td>24.47</td>\n",
       "      <td>19.73</td>\n",
       "      <td>0.0</td>\n",
       "      <td>21.77</td>\n",
       "      <td>Reparatör på plats</td>\n",
       "      <td>101. Drivning påläggningsdorn</td>\n",
       "      <td>0 days 00:13:37.202000</td>\n",
       "    </tr>\n",
       "  </tbody>\n",
       "</table>\n",
       "</div>"
      ],
      "text/plain": [
       "                         time  humi_s101   humi_s1021  humi_s1022  humi_s103  \\\n",
       "0  2023-03-07 08:29:58.000000        NaN  21474836.47         0.0      44.37   \n",
       "1  2023-03-07 08:30:26.000000        NaN  21474836.47         0.0      44.48   \n",
       "2  2023-03-07 08:30:56.000000        NaN  21474836.47         0.0      44.15   \n",
       "3  2023-03-07 08:30:56.000000        NaN  21474836.47         0.0      43.88   \n",
       "4  2023-03-07 08:31:23.000000        NaN  21474836.47         0.0      44.16   \n",
       "\n",
       "   press_s101  press_s1021  press_s1022  press_s103  temp_s101  temp_s1021  \\\n",
       "0      974.28      3462.51          0.0    -3538.14      24.79       19.69   \n",
       "1      974.43      3462.51          0.0    -3538.14      24.69       19.69   \n",
       "2      974.49      3462.51          0.0    -3538.14      24.69       19.73   \n",
       "3      974.18      3462.51          0.0    -3538.14      24.54       75.14   \n",
       "4      974.14      3462.51          0.0    -3538.14      24.47       19.73   \n",
       "\n",
       "   temp_s1022  temp_s103  next_stop_101_type      next_stop_101_information  \\\n",
       "0         0.0      21.73  Reparatör på plats  101. Drivning påläggningsdorn   \n",
       "1         0.0      21.73  Reparatör på plats  101. Drivning påläggningsdorn   \n",
       "2         0.0      21.74  Reparatör på plats  101. Drivning påläggningsdorn   \n",
       "3         0.0      21.76  Reparatör på plats  101. Drivning påläggningsdorn   \n",
       "4         0.0      21.77  Reparatör på plats  101. Drivning påläggningsdorn   \n",
       "\n",
       "                  RUL_101  \n",
       "0  0 days 00:15:02.202000  \n",
       "1  0 days 00:14:34.202000  \n",
       "2  0 days 00:14:04.202000  \n",
       "3  0 days 00:14:04.202000  \n",
       "4  0 days 00:13:37.202000  "
      ]
     },
     "execution_count": 191,
     "metadata": {},
     "output_type": "execute_result"
    }
   ],
   "source": [
    "df = pd.read_csv('df_sensor_stop101.csv').drop(['Unnamed: 0', 'next_time', 'next_stop_101_time' ], axis=1)\n",
    "print(df.shape)\n",
    "df.head()"
   ]
  },
  {
   "cell_type": "code",
   "execution_count": 192,
   "metadata": {},
   "outputs": [
    {
     "name": "stderr",
     "output_type": "stream",
     "text": [
      "C:\\Users\\R\\AppData\\Local\\Temp\\ipykernel_3372\\2553257638.py:11: FutureWarning: Treating datetime data as categorical rather than numeric in `.describe` is deprecated and will be removed in a future version of pandas. Specify `datetime_is_numeric=True` to silence this warning and adopt the future behavior now.\n",
      "  df.describe(include='all').T\n"
     ]
    },
    {
     "data": {
      "text/html": [
       "<div>\n",
       "<style scoped>\n",
       "    .dataframe tbody tr th:only-of-type {\n",
       "        vertical-align: middle;\n",
       "    }\n",
       "\n",
       "    .dataframe tbody tr th {\n",
       "        vertical-align: top;\n",
       "    }\n",
       "\n",
       "    .dataframe thead th {\n",
       "        text-align: right;\n",
       "    }\n",
       "</style>\n",
       "<table border=\"1\" class=\"dataframe\">\n",
       "  <thead>\n",
       "    <tr style=\"text-align: right;\">\n",
       "      <th></th>\n",
       "      <th>count</th>\n",
       "      <th>unique</th>\n",
       "      <th>top</th>\n",
       "      <th>freq</th>\n",
       "      <th>first</th>\n",
       "      <th>last</th>\n",
       "      <th>mean</th>\n",
       "      <th>std</th>\n",
       "      <th>min</th>\n",
       "      <th>25%</th>\n",
       "      <th>50%</th>\n",
       "      <th>75%</th>\n",
       "      <th>max</th>\n",
       "    </tr>\n",
       "  </thead>\n",
       "  <tbody>\n",
       "    <tr>\n",
       "      <th>time</th>\n",
       "      <td>9921</td>\n",
       "      <td>9920</td>\n",
       "      <td>2023-03-07 08:30:56</td>\n",
       "      <td>2</td>\n",
       "      <td>2023-03-07 08:29:58</td>\n",
       "      <td>2023-03-20 06:15:20.245297</td>\n",
       "      <td>NaN</td>\n",
       "      <td>NaN</td>\n",
       "      <td>NaN</td>\n",
       "      <td>NaN</td>\n",
       "      <td>NaN</td>\n",
       "      <td>NaN</td>\n",
       "      <td>NaN</td>\n",
       "    </tr>\n",
       "    <tr>\n",
       "      <th>humi_s101</th>\n",
       "      <td>8921.0</td>\n",
       "      <td>NaN</td>\n",
       "      <td>NaN</td>\n",
       "      <td>NaN</td>\n",
       "      <td>NaT</td>\n",
       "      <td>NaT</td>\n",
       "      <td>14150732.660853</td>\n",
       "      <td>10176692.445243</td>\n",
       "      <td>9.56</td>\n",
       "      <td>39.63</td>\n",
       "      <td>21474836.47</td>\n",
       "      <td>21474836.47</td>\n",
       "      <td>21474836.47</td>\n",
       "    </tr>\n",
       "    <tr>\n",
       "      <th>humi_s1021</th>\n",
       "      <td>9921.0</td>\n",
       "      <td>NaN</td>\n",
       "      <td>NaN</td>\n",
       "      <td>NaN</td>\n",
       "      <td>NaT</td>\n",
       "      <td>NaT</td>\n",
       "      <td>12273138.280852</td>\n",
       "      <td>10621513.647887</td>\n",
       "      <td>0.0</td>\n",
       "      <td>41.56</td>\n",
       "      <td>21474836.47</td>\n",
       "      <td>21474836.47</td>\n",
       "      <td>21474836.47</td>\n",
       "    </tr>\n",
       "    <tr>\n",
       "      <th>humi_s1022</th>\n",
       "      <td>9921.0</td>\n",
       "      <td>NaN</td>\n",
       "      <td>NaN</td>\n",
       "      <td>NaN</td>\n",
       "      <td>NaT</td>\n",
       "      <td>NaT</td>\n",
       "      <td>3.495887</td>\n",
       "      <td>7.39328</td>\n",
       "      <td>0.0</td>\n",
       "      <td>0.0</td>\n",
       "      <td>0.0</td>\n",
       "      <td>0.0</td>\n",
       "      <td>19.13</td>\n",
       "    </tr>\n",
       "    <tr>\n",
       "      <th>humi_s103</th>\n",
       "      <td>9921.0</td>\n",
       "      <td>NaN</td>\n",
       "      <td>NaN</td>\n",
       "      <td>NaN</td>\n",
       "      <td>NaT</td>\n",
       "      <td>NaT</td>\n",
       "      <td>8666.643313</td>\n",
       "      <td>431137.986359</td>\n",
       "      <td>0.0</td>\n",
       "      <td>0.0</td>\n",
       "      <td>0.0</td>\n",
       "      <td>0.0</td>\n",
       "      <td>21474836.47</td>\n",
       "    </tr>\n",
       "    <tr>\n",
       "      <th>press_s101</th>\n",
       "      <td>9921.0</td>\n",
       "      <td>NaN</td>\n",
       "      <td>NaN</td>\n",
       "      <td>NaN</td>\n",
       "      <td>NaT</td>\n",
       "      <td>NaT</td>\n",
       "      <td>2729.101626</td>\n",
       "      <td>1352.769716</td>\n",
       "      <td>-4082.92</td>\n",
       "      <td>3230.97</td>\n",
       "      <td>3230.97</td>\n",
       "      <td>3230.97</td>\n",
       "      <td>3474.52</td>\n",
       "    </tr>\n",
       "    <tr>\n",
       "      <th>press_s1021</th>\n",
       "      <td>9921.0</td>\n",
       "      <td>NaN</td>\n",
       "      <td>NaN</td>\n",
       "      <td>NaN</td>\n",
       "      <td>NaT</td>\n",
       "      <td>NaT</td>\n",
       "      <td>2816.689975</td>\n",
       "      <td>2016.362429</td>\n",
       "      <td>-4138.52</td>\n",
       "      <td>3474.43</td>\n",
       "      <td>3474.43</td>\n",
       "      <td>3474.43</td>\n",
       "      <td>3614.77</td>\n",
       "    </tr>\n",
       "    <tr>\n",
       "      <th>press_s1022</th>\n",
       "      <td>9921.0</td>\n",
       "      <td>NaN</td>\n",
       "      <td>NaN</td>\n",
       "      <td>NaN</td>\n",
       "      <td>NaT</td>\n",
       "      <td>NaT</td>\n",
       "      <td>627.148881</td>\n",
       "      <td>1326.326688</td>\n",
       "      <td>0.0</td>\n",
       "      <td>0.0</td>\n",
       "      <td>0.0</td>\n",
       "      <td>0.0</td>\n",
       "      <td>3431.85</td>\n",
       "    </tr>\n",
       "    <tr>\n",
       "      <th>press_s103</th>\n",
       "      <td>9921.0</td>\n",
       "      <td>NaN</td>\n",
       "      <td>NaN</td>\n",
       "      <td>NaN</td>\n",
       "      <td>NaT</td>\n",
       "      <td>NaT</td>\n",
       "      <td>-256.377017</td>\n",
       "      <td>1138.744347</td>\n",
       "      <td>-3538.14</td>\n",
       "      <td>0.0</td>\n",
       "      <td>0.0</td>\n",
       "      <td>0.0</td>\n",
       "      <td>3453.57</td>\n",
       "    </tr>\n",
       "    <tr>\n",
       "      <th>temp_s101</th>\n",
       "      <td>9921.0</td>\n",
       "      <td>NaN</td>\n",
       "      <td>NaN</td>\n",
       "      <td>NaN</td>\n",
       "      <td>NaT</td>\n",
       "      <td>NaT</td>\n",
       "      <td>12926952.200995</td>\n",
       "      <td>10495807.451017</td>\n",
       "      <td>-34.08</td>\n",
       "      <td>24.07</td>\n",
       "      <td>21474836.47</td>\n",
       "      <td>21474836.47</td>\n",
       "      <td>21474836.47</td>\n",
       "    </tr>\n",
       "    <tr>\n",
       "      <th>temp_s1021</th>\n",
       "      <td>9921.0</td>\n",
       "      <td>NaN</td>\n",
       "      <td>NaN</td>\n",
       "      <td>NaN</td>\n",
       "      <td>NaT</td>\n",
       "      <td>NaT</td>\n",
       "      <td>11532370.055772</td>\n",
       "      <td>10696590.824765</td>\n",
       "      <td>-33.25</td>\n",
       "      <td>20.62</td>\n",
       "      <td>21474836.47</td>\n",
       "      <td>21474836.47</td>\n",
       "      <td>21474836.47</td>\n",
       "    </tr>\n",
       "    <tr>\n",
       "      <th>temp_s1022</th>\n",
       "      <td>9921.0</td>\n",
       "      <td>NaN</td>\n",
       "      <td>NaN</td>\n",
       "      <td>NaN</td>\n",
       "      <td>NaT</td>\n",
       "      <td>NaT</td>\n",
       "      <td>6.140187</td>\n",
       "      <td>12.985584</td>\n",
       "      <td>0.0</td>\n",
       "      <td>0.0</td>\n",
       "      <td>0.0</td>\n",
       "      <td>0.0</td>\n",
       "      <td>33.6</td>\n",
       "    </tr>\n",
       "    <tr>\n",
       "      <th>temp_s103</th>\n",
       "      <td>9921.0</td>\n",
       "      <td>NaN</td>\n",
       "      <td>NaN</td>\n",
       "      <td>NaN</td>\n",
       "      <td>NaT</td>\n",
       "      <td>NaT</td>\n",
       "      <td>6498.048423</td>\n",
       "      <td>373395.342918</td>\n",
       "      <td>0.0</td>\n",
       "      <td>0.0</td>\n",
       "      <td>0.0</td>\n",
       "      <td>0.0</td>\n",
       "      <td>21474836.47</td>\n",
       "    </tr>\n",
       "    <tr>\n",
       "      <th>next_stop_101_type</th>\n",
       "      <td>3254</td>\n",
       "      <td>2</td>\n",
       "      <td>Mekaniskt fel</td>\n",
       "      <td>2422</td>\n",
       "      <td>NaT</td>\n",
       "      <td>NaT</td>\n",
       "      <td>NaN</td>\n",
       "      <td>NaN</td>\n",
       "      <td>NaN</td>\n",
       "      <td>NaN</td>\n",
       "      <td>NaN</td>\n",
       "      <td>NaN</td>\n",
       "      <td>NaN</td>\n",
       "    </tr>\n",
       "    <tr>\n",
       "      <th>next_stop_101_information</th>\n",
       "      <td>3254</td>\n",
       "      <td>5</td>\n",
       "      <td>101. Avskärning väv</td>\n",
       "      <td>960</td>\n",
       "      <td>NaT</td>\n",
       "      <td>NaT</td>\n",
       "      <td>NaN</td>\n",
       "      <td>NaN</td>\n",
       "      <td>NaN</td>\n",
       "      <td>NaN</td>\n",
       "      <td>NaN</td>\n",
       "      <td>NaN</td>\n",
       "      <td>NaN</td>\n",
       "    </tr>\n",
       "    <tr>\n",
       "      <th>RUL_101_minutes</th>\n",
       "      <td>3254.0</td>\n",
       "      <td>NaN</td>\n",
       "      <td>NaN</td>\n",
       "      <td>NaN</td>\n",
       "      <td>NaT</td>\n",
       "      <td>NaT</td>\n",
       "      <td>283.453425</td>\n",
       "      <td>214.422831</td>\n",
       "      <td>0.010833</td>\n",
       "      <td>75.006061</td>\n",
       "      <td>296.847182</td>\n",
       "      <td>440.042333</td>\n",
       "      <td>936.902433</td>\n",
       "    </tr>\n",
       "  </tbody>\n",
       "</table>\n",
       "</div>"
      ],
      "text/plain": [
       "                            count unique                  top  freq  \\\n",
       "time                         9921   9920  2023-03-07 08:30:56     2   \n",
       "humi_s101                  8921.0    NaN                  NaN   NaN   \n",
       "humi_s1021                 9921.0    NaN                  NaN   NaN   \n",
       "humi_s1022                 9921.0    NaN                  NaN   NaN   \n",
       "humi_s103                  9921.0    NaN                  NaN   NaN   \n",
       "press_s101                 9921.0    NaN                  NaN   NaN   \n",
       "press_s1021                9921.0    NaN                  NaN   NaN   \n",
       "press_s1022                9921.0    NaN                  NaN   NaN   \n",
       "press_s103                 9921.0    NaN                  NaN   NaN   \n",
       "temp_s101                  9921.0    NaN                  NaN   NaN   \n",
       "temp_s1021                 9921.0    NaN                  NaN   NaN   \n",
       "temp_s1022                 9921.0    NaN                  NaN   NaN   \n",
       "temp_s103                  9921.0    NaN                  NaN   NaN   \n",
       "next_stop_101_type           3254      2        Mekaniskt fel  2422   \n",
       "next_stop_101_information    3254      5  101. Avskärning väv   960   \n",
       "RUL_101_minutes            3254.0    NaN                  NaN   NaN   \n",
       "\n",
       "                                        first                       last  \\\n",
       "time                      2023-03-07 08:29:58 2023-03-20 06:15:20.245297   \n",
       "humi_s101                                 NaT                        NaT   \n",
       "humi_s1021                                NaT                        NaT   \n",
       "humi_s1022                                NaT                        NaT   \n",
       "humi_s103                                 NaT                        NaT   \n",
       "press_s101                                NaT                        NaT   \n",
       "press_s1021                               NaT                        NaT   \n",
       "press_s1022                               NaT                        NaT   \n",
       "press_s103                                NaT                        NaT   \n",
       "temp_s101                                 NaT                        NaT   \n",
       "temp_s1021                                NaT                        NaT   \n",
       "temp_s1022                                NaT                        NaT   \n",
       "temp_s103                                 NaT                        NaT   \n",
       "next_stop_101_type                        NaT                        NaT   \n",
       "next_stop_101_information                 NaT                        NaT   \n",
       "RUL_101_minutes                           NaT                        NaT   \n",
       "\n",
       "                                      mean              std       min  \\\n",
       "time                                   NaN              NaN       NaN   \n",
       "humi_s101                  14150732.660853  10176692.445243      9.56   \n",
       "humi_s1021                 12273138.280852  10621513.647887       0.0   \n",
       "humi_s1022                        3.495887          7.39328       0.0   \n",
       "humi_s103                      8666.643313    431137.986359       0.0   \n",
       "press_s101                     2729.101626      1352.769716  -4082.92   \n",
       "press_s1021                    2816.689975      2016.362429  -4138.52   \n",
       "press_s1022                     627.148881      1326.326688       0.0   \n",
       "press_s103                     -256.377017      1138.744347  -3538.14   \n",
       "temp_s101                  12926952.200995  10495807.451017    -34.08   \n",
       "temp_s1021                 11532370.055772  10696590.824765    -33.25   \n",
       "temp_s1022                        6.140187        12.985584       0.0   \n",
       "temp_s103                      6498.048423    373395.342918       0.0   \n",
       "next_stop_101_type                     NaN              NaN       NaN   \n",
       "next_stop_101_information              NaN              NaN       NaN   \n",
       "RUL_101_minutes                 283.453425       214.422831  0.010833   \n",
       "\n",
       "                                 25%          50%          75%          max  \n",
       "time                             NaN          NaN          NaN          NaN  \n",
       "humi_s101                      39.63  21474836.47  21474836.47  21474836.47  \n",
       "humi_s1021                     41.56  21474836.47  21474836.47  21474836.47  \n",
       "humi_s1022                       0.0          0.0          0.0        19.13  \n",
       "humi_s103                        0.0          0.0          0.0  21474836.47  \n",
       "press_s101                   3230.97      3230.97      3230.97      3474.52  \n",
       "press_s1021                  3474.43      3474.43      3474.43      3614.77  \n",
       "press_s1022                      0.0          0.0          0.0      3431.85  \n",
       "press_s103                       0.0          0.0          0.0      3453.57  \n",
       "temp_s101                      24.07  21474836.47  21474836.47  21474836.47  \n",
       "temp_s1021                     20.62  21474836.47  21474836.47  21474836.47  \n",
       "temp_s1022                       0.0          0.0          0.0         33.6  \n",
       "temp_s103                        0.0          0.0          0.0  21474836.47  \n",
       "next_stop_101_type               NaN          NaN          NaN          NaN  \n",
       "next_stop_101_information        NaN          NaN          NaN          NaN  \n",
       "RUL_101_minutes            75.006061   296.847182   440.042333   936.902433  "
      ]
     },
     "execution_count": 192,
     "metadata": {},
     "output_type": "execute_result"
    }
   ],
   "source": [
    "df.time = df.time.astype('datetime64')\n",
    "def convert_to_minutes(x):\n",
    "    try:\n",
    "        minutes = int(str(x)[-15:-13]) * 60 + int(str(x)[-12:-10]) + float(str(x)[-9:]) / 60\n",
    "        return minutes\n",
    "    except ValueError:\n",
    "        return pd.NA\n",
    "df['RUL_101_minutes'] = df['RUL_101'].apply(convert_to_minutes)\n",
    "df['RUL_101_minutes'] = pd.to_numeric(df['RUL_101_minutes'], errors='coerce').astype(float)\n",
    "df = df.drop('RUL_101', axis=1)\n",
    "df.describe(include='all').T"
   ]
  },
  {
   "cell_type": "code",
   "execution_count": 132,
   "metadata": {},
   "outputs": [
    {
     "data": {
      "text/plain": [
       "<seaborn.axisgrid.FacetGrid at 0x20b72dfc7f0>"
      ]
     },
     "execution_count": 132,
     "metadata": {},
     "output_type": "execute_result"
    },
    {
     "data": {
      "image/png": "[encoded data removed]",
      "text/plain": [
       "<Figure size 1750x500 with 1 Axes>"
      ]
     },
     "metadata": {},
     "output_type": "display_data"
    }
   ],
   "source": [
    "sns.displot(data=df, x=\"RUL_101_minutes\", kde=False, bins = 100,color = \"blue\", facecolor = \"lightgreen\",height = 5, aspect = 3.5)"
   ]
  },
  {
   "cell_type": "code",
   "execution_count": 133,
   "metadata": {},
   "outputs": [
    {
     "data": {
      "text/plain": [
       "time                         datetime64[ns]\n",
       "humi_s101                           float64\n",
       "humi_s1021                          float64\n",
       "humi_s1022                          float64\n",
       "humi_s103                           float64\n",
       "press_s101                          float64\n",
       "press_s1021                         float64\n",
       "press_s1022                         float64\n",
       "press_s103                          float64\n",
       "temp_s101                           float64\n",
       "temp_s1021                          float64\n",
       "temp_s1022                          float64\n",
       "temp_s103                           float64\n",
       "next_stop_101_type                   object\n",
       "next_stop_101_information            object\n",
       "RUL_101_minutes                     float64\n",
       "dtype: object"
      ]
     },
     "execution_count": 133,
     "metadata": {},
     "output_type": "execute_result"
    }
   ],
   "source": [
    "df.dtypes"
   ]
  },
  {
   "cell_type": "code",
   "execution_count": 134,
   "metadata": {},
   "outputs": [
    {
     "data": {
      "text/plain": [
       "time                         9920\n",
       "humi_s101                     381\n",
       "humi_s1021                    506\n",
       "humi_s1022                      2\n",
       "humi_s103                     848\n",
       "press_s101                    681\n",
       "press_s1021                   166\n",
       "press_s1022                     2\n",
       "press_s103                    462\n",
       "temp_s101                     375\n",
       "temp_s1021                    200\n",
       "temp_s1022                      2\n",
       "temp_s103                     165\n",
       "next_stop_101_type              2\n",
       "next_stop_101_information       5\n",
       "RUL_101_minutes              3253\n",
       "dtype: int64"
      ]
     },
     "execution_count": 134,
     "metadata": {},
     "output_type": "execute_result"
    }
   ],
   "source": [
    "df.nunique()"
   ]
  },
  {
   "cell_type": "code",
   "execution_count": 235,
   "metadata": {},
   "outputs": [
    {
     "name": "stdout",
     "output_type": "stream",
     "text": [
      "21474836.47    59.227900\n",
      "39.63          15.008568\n",
      "NaN            10.079629\n",
      "34.75           1.280113\n",
      "33.21           0.715654\n",
      "Name: humi_s101, dtype: float64\n"
     ]
    },
    {
     "data": {
      "text/plain": [
       "21474836.47    5876\n",
       "39.63          1489\n",
       "34.75           127\n",
       "33.21            71\n",
       "34.89            68\n",
       "               ... \n",
       "32.39             1\n",
       "32.99             1\n",
       "32.51             1\n",
       "35.20             1\n",
       "32.32             1\n",
       "Name: humi_s101, Length: 381, dtype: int64"
      ]
     },
     "execution_count": 235,
     "metadata": {},
     "output_type": "execute_result"
    }
   ],
   "source": [
    "value_counts = df.humi_s101.value_counts(dropna=False).sort_values(ascending=False)\n",
    "top_values = value_counts.head(5)\n",
    "percentage = (top_values / len(df)) * 100\n",
    "print(percentage)\n",
    "df.humi_s101.value_counts()"
   ]
  },
  {
   "cell_type": "code",
   "execution_count": 244,
   "metadata": {},
   "outputs": [
    {
     "name": "stdout",
     "output_type": "stream",
     "text": [
      "<bound method IndexOpsMixin.value_counts of 0       21474836.47\n",
      "1       21474836.47\n",
      "2       21474836.47\n",
      "3       21474836.47\n",
      "4       21474836.47\n",
      "           ...     \n",
      "9916          42.65\n",
      "9917          42.65\n",
      "9918          42.65\n",
      "9919          42.65\n",
      "9920          42.65\n",
      "Name: humi_s1021, Length: 9921, dtype: float64>\n"
     ]
    },
    {
     "data": {
      "text/plain": [
       "21474836.47    57.111178\n",
       "40.82          15.169842\n",
       "42.65           2.136881\n",
       "Name: humi_s1021, dtype: float64"
      ]
     },
     "execution_count": 244,
     "metadata": {},
     "output_type": "execute_result"
    }
   ],
   "source": [
    "value_counts = df.humi_s1021.value_counts(dropna=False).sort_values(ascending=False)\n",
    "top_values = value_counts.head(3)\n",
    "percentage = (top_values / len(df)) * 100\n",
    "print(df.humi_s1021.value_counts)\n",
    "percentage"
   ]
  },
  {
   "cell_type": "code",
   "execution_count": 245,
   "metadata": {},
   "outputs": [
    {
     "name": "stdout",
     "output_type": "stream",
     "text": [
      "0.00     8108\n",
      "19.13    1813\n",
      "Name: humi_s1022, dtype: int64\n"
     ]
    },
    {
     "data": {
      "text/plain": [
       "0.00     81.725632\n",
       "19.13    18.274368\n",
       "Name: humi_s1022, dtype: float64"
      ]
     },
     "execution_count": 245,
     "metadata": {},
     "output_type": "execute_result"
    }
   ],
   "source": [
    "value_counts = df.humi_s1022.value_counts(dropna=False).sort_values(ascending=False)\n",
    "top_values = value_counts.head(3)\n",
    "percentage = (top_values / len(df)) * 100\n",
    "print(df.humi_s1022.value_counts())\n",
    "percentage"
   ]
  },
  {
   "cell_type": "code",
   "execution_count": 246,
   "metadata": {},
   "outputs": [
    {
     "name": "stdout",
     "output_type": "stream",
     "text": [
      "0.00     7919\n",
      "39.00       8\n",
      "43.24       8\n",
      "38.32       7\n",
      "39.47       7\n",
      "         ... \n",
      "36.88       1\n",
      "37.82       1\n",
      "43.07       1\n",
      "35.55       1\n",
      "36.92       1\n",
      "Name: humi_s103, Length: 848, dtype: int64\n"
     ]
    },
    {
     "data": {
      "text/plain": [
       "0.00     79.820583\n",
       "43.24     0.080637\n",
       "39.00     0.080637\n",
       "Name: humi_s103, dtype: float64"
      ]
     },
     "execution_count": 246,
     "metadata": {},
     "output_type": "execute_result"
    }
   ],
   "source": [
    "value_counts = df.humi_s103.value_counts(dropna=False).sort_values(ascending=False)\n",
    "top_values = value_counts.head(3)\n",
    "percentage = (top_values / len(df)) * 100\n",
    "print(df.humi_s103.value_counts())\n",
    "percentage"
   ]
  },
  {
   "cell_type": "code",
   "execution_count": 249,
   "metadata": {},
   "outputs": [
    {
     "name": "stdout",
     "output_type": "stream",
     "text": [
      " 3230.97    6022\n",
      " 3474.52    1910\n",
      " 2102.78     577\n",
      "-2128.94     376\n",
      "-3510.39      31\n",
      "            ... \n",
      " 969.49        1\n",
      " 969.48        1\n",
      " 969.45        1\n",
      " 969.96        1\n",
      " 910.36        1\n",
      "Name: press_s101, Length: 681, dtype: int64\n"
     ]
    },
    {
     "data": {
      "text/plain": [
       " 3230.97    60.699526\n",
       " 3474.52    19.252092\n",
       " 2102.78     5.815946\n",
       "-2128.94     3.789941\n",
       "-3510.39     0.312469\n",
       "Name: press_s101, dtype: float64"
      ]
     },
     "execution_count": 249,
     "metadata": {},
     "output_type": "execute_result"
    }
   ],
   "source": [
    "value_counts = df.press_s101.value_counts(dropna=False).sort_values(ascending=False)\n",
    "top_values = value_counts.head(5)\n",
    "percentage = (top_values / len(df)) * 100\n",
    "print(df.press_s101.value_counts())\n",
    "percentage"
   ]
  },
  {
   "cell_type": "code",
   "execution_count": 251,
   "metadata": {},
   "outputs": [
    {
     "name": "stdout",
     "output_type": "stream",
     "text": [
      " 3474.43    6034\n",
      " 3600.55    1754\n",
      " 3462.51    1041\n",
      "-3527.70     791\n",
      " 0.00         72\n",
      "            ... \n",
      " 1105.18       1\n",
      " 1105.34       1\n",
      " 1105.19       1\n",
      " 1105.21       1\n",
      " 996.64        1\n",
      "Name: press_s1021, Length: 166, dtype: int64\n"
     ]
    },
    {
     "data": {
      "text/plain": [
       " 3474.43    60.820482\n",
       " 3600.55    17.679669\n",
       " 3462.51    10.492894\n",
       "-3527.70     7.972987\n",
       " 0.00        0.725733\n",
       "-3890.06     0.151194\n",
       "Name: press_s1021, dtype: float64"
      ]
     },
     "execution_count": 251,
     "metadata": {},
     "output_type": "execute_result"
    }
   ],
   "source": [
    "value_counts = df.press_s1021.value_counts(dropna=False).sort_values(ascending=False)\n",
    "top_values = value_counts.head(6)\n",
    "percentage = (top_values / len(df)) * 100\n",
    "print(df.press_s1021.value_counts())\n",
    "percentage"
   ]
  },
  {
   "cell_type": "code",
   "execution_count": 252,
   "metadata": {},
   "outputs": [
    {
     "name": "stdout",
     "output_type": "stream",
     "text": [
      "0.00       8108\n",
      "3431.85    1813\n",
      "Name: press_s1022, dtype: int64\n"
     ]
    },
    {
     "data": {
      "text/plain": [
       "0.00       81.725632\n",
       "3431.85    18.274368\n",
       "Name: press_s1022, dtype: float64"
      ]
     },
     "execution_count": 252,
     "metadata": {},
     "output_type": "execute_result"
    }
   ],
   "source": [
    "value_counts = df.press_s1022.value_counts(dropna=False).sort_values(ascending=False)\n",
    "top_values = value_counts.head(3)\n",
    "percentage = (top_values / len(df)) * 100\n",
    "print(df.press_s1022.value_counts())\n",
    "percentage"
   ]
  },
  {
   "cell_type": "code",
   "execution_count": 254,
   "metadata": {},
   "outputs": [
    {
     "name": "stdout",
     "output_type": "stream",
     "text": [
      " 0.00       7919\n",
      "-3538.14     998\n",
      " 976.92       10\n",
      " 977.82        7\n",
      " 973.83        6\n",
      "            ... \n",
      " 973.64        1\n",
      " 976.01        1\n",
      " 976.06        1\n",
      " 976.08        1\n",
      "-3532.99       1\n",
      "Name: press_s103, Length: 462, dtype: int64\n"
     ]
    },
    {
     "data": {
      "text/plain": [
       " 0.00       79.820583\n",
       "-3538.14    10.059470\n",
       " 976.92      0.100796\n",
       " 977.82      0.070557\n",
       " 973.83      0.060478\n",
       " 972.93      0.060478\n",
       "Name: press_s103, dtype: float64"
      ]
     },
     "execution_count": 254,
     "metadata": {},
     "output_type": "execute_result"
    }
   ],
   "source": [
    "value_counts = df.press_s103.value_counts(dropna=False).sort_values(ascending=False)\n",
    "top_values = value_counts.head(6)\n",
    "percentage = (top_values / len(df)) * 100\n",
    "print(df.press_s103.value_counts())\n",
    "percentage"
   ]
  },
  {
   "cell_type": "code",
   "execution_count": 255,
   "metadata": {},
   "outputs": [
    {
     "name": "stdout",
     "output_type": "stream",
     "text": [
      "21474836.47    5956\n",
      "22.24          1493\n",
      "24.50           131\n",
      "25.56            87\n",
      "24.68            77\n",
      "               ... \n",
      "22.72             1\n",
      "53.09             1\n",
      "11468997.12       1\n",
      "23.49             1\n",
      "22.39             1\n",
      "Name: temp_s101, Length: 375, dtype: int64\n"
     ]
    },
    {
     "data": {
      "text/plain": [
       "21474836.47    60.034271\n",
       "22.24          15.048886\n",
       "24.50           1.320431\n",
       "25.56           0.876928\n",
       "24.68           0.776131\n",
       "24.72           0.735813\n",
       "Name: temp_s101, dtype: float64"
      ]
     },
     "execution_count": 255,
     "metadata": {},
     "output_type": "execute_result"
    }
   ],
   "source": [
    "value_counts = df.temp_s101.value_counts(dropna=False).sort_values(ascending=False)\n",
    "top_values = value_counts.head(6)\n",
    "percentage = (top_values / len(df)) * 100\n",
    "print(df.temp_s101.value_counts())\n",
    "percentage"
   ]
  },
  {
   "cell_type": "code",
   "execution_count": 256,
   "metadata": {},
   "outputs": [
    {
     "name": "stdout",
     "output_type": "stream",
     "text": [
      " 21474836.47    5316\n",
      " 20.62          1571\n",
      " 21.20           210\n",
      " 21.14           193\n",
      " 19.38           178\n",
      "                ... \n",
      " 21.64             1\n",
      " 21.63             1\n",
      " 21.58             1\n",
      " 74.83             1\n",
      "-1.42              1\n",
      "Name: temp_s1021, Length: 200, dtype: int64\n"
     ]
    },
    {
     "data": {
      "text/plain": [
       "21474836.47    53.583308\n",
       "20.62          15.835097\n",
       "21.20           2.116722\n",
       "Name: temp_s1021, dtype: float64"
      ]
     },
     "execution_count": 256,
     "metadata": {},
     "output_type": "execute_result"
    }
   ],
   "source": [
    "value_counts = df.temp_s1021.value_counts(dropna=False).sort_values(ascending=False)\n",
    "top_values = value_counts.head(3)\n",
    "percentage = (top_values / len(df)) * 100\n",
    "print(df.temp_s1021.value_counts())\n",
    "percentage"
   ]
  },
  {
   "cell_type": "code",
   "execution_count": 257,
   "metadata": {},
   "outputs": [
    {
     "name": "stdout",
     "output_type": "stream",
     "text": [
      "0.0     8108\n",
      "33.6    1813\n",
      "Name: temp_s1022, dtype: int64\n"
     ]
    },
    {
     "data": {
      "text/plain": [
       "0.0     81.725632\n",
       "33.6    18.274368\n",
       "Name: temp_s1022, dtype: float64"
      ]
     },
     "execution_count": 257,
     "metadata": {},
     "output_type": "execute_result"
    }
   ],
   "source": [
    "value_counts = df.temp_s1022.value_counts(dropna=False).sort_values(ascending=False)\n",
    "top_values = value_counts.head(3)\n",
    "percentage = (top_values / len(df)) * 100\n",
    "print(df.temp_s1022.value_counts())\n",
    "percentage"
   ]
  },
  {
   "cell_type": "code",
   "execution_count": 259,
   "metadata": {},
   "outputs": [
    {
     "name": "stdout",
     "output_type": "stream",
     "text": [
      "0.00     7919\n",
      "21.85      44\n",
      "21.81      44\n",
      "21.84      42\n",
      "21.27      41\n",
      "         ... \n",
      "20.17       1\n",
      "22.04       1\n",
      "20.30       1\n",
      "20.01       1\n",
      "19.54       1\n",
      "Name: temp_s103, Length: 165, dtype: int64\n"
     ]
    },
    {
     "data": {
      "text/plain": [
       "0.00     79.820583\n",
       "21.81     0.443504\n",
       "21.85     0.443504\n",
       "21.84     0.423344\n",
       "21.27     0.413265\n",
       "21.78     0.362867\n",
       "Name: temp_s103, dtype: float64"
      ]
     },
     "execution_count": 259,
     "metadata": {},
     "output_type": "execute_result"
    }
   ],
   "source": [
    "value_counts = df.temp_s103.value_counts(dropna=False).sort_values(ascending=False)\n",
    "top_values = value_counts.head(6)\n",
    "percentage = (top_values / len(df)) * 100\n",
    "print(df.temp_s103.value_counts())\n",
    "percentage"
   ]
  },
  {
   "cell_type": "code",
   "execution_count": 261,
   "metadata": {},
   "outputs": [
    {
     "data": {
      "text/plain": [
       "NaN                              67.200887\n",
       "101. Avskärning väv               9.676444\n",
       "101. Drivning påläggningsdorn     9.192622\n",
       "101. Matning rörmagasin           7.448846\n",
       "101. Rör utan väv                 6.148574\n",
       "101. Vävvagn                      0.332628\n",
       "Name: next_stop_101_information, dtype: float64"
      ]
     },
     "execution_count": 261,
     "metadata": {},
     "output_type": "execute_result"
    },
    {
     "data": {
      "image/png": "[encoded data removed]",
      "text/plain": [
       "<Figure size 1750x500 with 1 Axes>"
      ]
     },
     "metadata": {},
     "output_type": "display_data"
    }
   ],
   "source": [
    "value_counts = df.next_stop_101_information.value_counts(dropna=False).sort_values(ascending=False)\n",
    "top_values = value_counts.head(9)\n",
    "percentage = (top_values / len(df)) * 100\n",
    "sns.displot(data=df, x=\"next_stop_101_information\", kde=False, bins = 100,color = \"blue\", facecolor = \"lightgreen\",height = 5, aspect = 3.5)\n",
    "# print(df.next_stop_101_information.value_counts())\n",
    "percentage"
   ]
  },
  {
   "cell_type": "code",
   "execution_count": 151,
   "metadata": {},
   "outputs": [
    {
     "data": {
      "text/plain": [
       "NaN                   67.200887\n",
       "Mekaniskt fel         24.412862\n",
       "Reparatör på plats     8.386251\n",
       "Name: next_stop_101_type, dtype: float64"
      ]
     },
     "execution_count": 151,
     "metadata": {},
     "output_type": "execute_result"
    },
    {
     "data": {
      "image/png": "[encoded data removed]",
      "text/plain": [
       "<Figure size 1750x500 with 1 Axes>"
      ]
     },
     "metadata": {},
     "output_type": "display_data"
    }
   ],
   "source": [
    "value_counts = df.next_stop_101_type.value_counts(dropna=False).sort_values(ascending=False)\n",
    "top_values = value_counts.head(3)\n",
    "percentage = (top_values / len(df)) * 100\n",
    "sns.displot(data=df, x=\"next_stop_101_type\", kde=False, bins = 100,color = \"blue\", facecolor = \"lightgreen\",height = 5, aspect = 3.5)\n",
    "percentage"
   ]
  },
  {
   "cell_type": "code",
   "execution_count": 172,
   "metadata": {},
   "outputs": [
    {
     "data": {
      "text/html": [
       "<div>\n",
       "<style scoped>\n",
       "    .dataframe tbody tr th:only-of-type {\n",
       "        vertical-align: middle;\n",
       "    }\n",
       "\n",
       "    .dataframe tbody tr th {\n",
       "        vertical-align: top;\n",
       "    }\n",
       "\n",
       "    .dataframe thead th {\n",
       "        text-align: right;\n",
       "    }\n",
       "</style>\n",
       "<table border=\"1\" class=\"dataframe\">\n",
       "  <thead>\n",
       "    <tr style=\"text-align: right;\">\n",
       "      <th></th>\n",
       "      <th>time</th>\n",
       "      <th>humi_s101</th>\n",
       "      <th>humi_s1021</th>\n",
       "      <th>humi_s1022</th>\n",
       "      <th>humi_s103</th>\n",
       "      <th>press_s101</th>\n",
       "      <th>press_s1021</th>\n",
       "      <th>press_s1022</th>\n",
       "      <th>press_s103</th>\n",
       "      <th>temp_s101</th>\n",
       "      <th>temp_s1021</th>\n",
       "      <th>temp_s1022</th>\n",
       "      <th>temp_s103</th>\n",
       "      <th>next_stop_102_type</th>\n",
       "      <th>next_stop_102_information</th>\n",
       "      <th>RUL_102_minutes</th>\n",
       "    </tr>\n",
       "  </thead>\n",
       "  <tbody>\n",
       "    <tr>\n",
       "      <th>0</th>\n",
       "      <td>2023-03-07 08:29:58.000000</td>\n",
       "      <td>NaN</td>\n",
       "      <td>21474836.47</td>\n",
       "      <td>0.0</td>\n",
       "      <td>44.37</td>\n",
       "      <td>974.28</td>\n",
       "      <td>3462.51</td>\n",
       "      <td>0.0</td>\n",
       "      <td>-3538.14</td>\n",
       "      <td>24.79</td>\n",
       "      <td>19.69</td>\n",
       "      <td>0.0</td>\n",
       "      <td>21.73</td>\n",
       "      <td>Mekaniskt fel</td>\n",
       "      <td>102. Avskjutning rullar</td>\n",
       "      <td>50.931950</td>\n",
       "    </tr>\n",
       "    <tr>\n",
       "      <th>1</th>\n",
       "      <td>2023-03-07 08:30:26.000000</td>\n",
       "      <td>NaN</td>\n",
       "      <td>21474836.47</td>\n",
       "      <td>0.0</td>\n",
       "      <td>44.48</td>\n",
       "      <td>974.43</td>\n",
       "      <td>3462.51</td>\n",
       "      <td>0.0</td>\n",
       "      <td>-3538.14</td>\n",
       "      <td>24.69</td>\n",
       "      <td>19.69</td>\n",
       "      <td>0.0</td>\n",
       "      <td>21.73</td>\n",
       "      <td>Mekaniskt fel</td>\n",
       "      <td>102. Avskjutning rullar</td>\n",
       "      <td>50.465283</td>\n",
       "    </tr>\n",
       "    <tr>\n",
       "      <th>2</th>\n",
       "      <td>2023-03-07 08:30:56.000000</td>\n",
       "      <td>NaN</td>\n",
       "      <td>21474836.47</td>\n",
       "      <td>0.0</td>\n",
       "      <td>44.15</td>\n",
       "      <td>974.49</td>\n",
       "      <td>3462.51</td>\n",
       "      <td>0.0</td>\n",
       "      <td>-3538.14</td>\n",
       "      <td>24.69</td>\n",
       "      <td>19.73</td>\n",
       "      <td>0.0</td>\n",
       "      <td>21.74</td>\n",
       "      <td>Mekaniskt fel</td>\n",
       "      <td>102. Avskjutning rullar</td>\n",
       "      <td>49.965283</td>\n",
       "    </tr>\n",
       "    <tr>\n",
       "      <th>3</th>\n",
       "      <td>2023-03-07 08:30:56.000000</td>\n",
       "      <td>NaN</td>\n",
       "      <td>21474836.47</td>\n",
       "      <td>0.0</td>\n",
       "      <td>43.88</td>\n",
       "      <td>974.18</td>\n",
       "      <td>3462.51</td>\n",
       "      <td>0.0</td>\n",
       "      <td>-3538.14</td>\n",
       "      <td>24.54</td>\n",
       "      <td>75.14</td>\n",
       "      <td>0.0</td>\n",
       "      <td>21.76</td>\n",
       "      <td>Mekaniskt fel</td>\n",
       "      <td>102. Avskjutning rullar</td>\n",
       "      <td>49.965283</td>\n",
       "    </tr>\n",
       "    <tr>\n",
       "      <th>4</th>\n",
       "      <td>2023-03-07 08:31:23.000000</td>\n",
       "      <td>NaN</td>\n",
       "      <td>21474836.47</td>\n",
       "      <td>0.0</td>\n",
       "      <td>44.16</td>\n",
       "      <td>974.14</td>\n",
       "      <td>3462.51</td>\n",
       "      <td>0.0</td>\n",
       "      <td>-3538.14</td>\n",
       "      <td>24.47</td>\n",
       "      <td>19.73</td>\n",
       "      <td>0.0</td>\n",
       "      <td>21.77</td>\n",
       "      <td>Mekaniskt fel</td>\n",
       "      <td>102. Avskjutning rullar</td>\n",
       "      <td>49.515283</td>\n",
       "    </tr>\n",
       "  </tbody>\n",
       "</table>\n",
       "</div>"
      ],
      "text/plain": [
       "                         time  humi_s101   humi_s1021  humi_s1022  humi_s103  \\\n",
       "0  2023-03-07 08:29:58.000000        NaN  21474836.47         0.0      44.37   \n",
       "1  2023-03-07 08:30:26.000000        NaN  21474836.47         0.0      44.48   \n",
       "2  2023-03-07 08:30:56.000000        NaN  21474836.47         0.0      44.15   \n",
       "3  2023-03-07 08:30:56.000000        NaN  21474836.47         0.0      43.88   \n",
       "4  2023-03-07 08:31:23.000000        NaN  21474836.47         0.0      44.16   \n",
       "\n",
       "   press_s101  press_s1021  press_s1022  press_s103  temp_s101  temp_s1021  \\\n",
       "0      974.28      3462.51          0.0    -3538.14      24.79       19.69   \n",
       "1      974.43      3462.51          0.0    -3538.14      24.69       19.69   \n",
       "2      974.49      3462.51          0.0    -3538.14      24.69       19.73   \n",
       "3      974.18      3462.51          0.0    -3538.14      24.54       75.14   \n",
       "4      974.14      3462.51          0.0    -3538.14      24.47       19.73   \n",
       "\n",
       "   temp_s1022  temp_s103 next_stop_102_type next_stop_102_information  \\\n",
       "0         0.0      21.73      Mekaniskt fel   102. Avskjutning rullar   \n",
       "1         0.0      21.73      Mekaniskt fel   102. Avskjutning rullar   \n",
       "2         0.0      21.74      Mekaniskt fel   102. Avskjutning rullar   \n",
       "3         0.0      21.76      Mekaniskt fel   102. Avskjutning rullar   \n",
       "4         0.0      21.77      Mekaniskt fel   102. Avskjutning rullar   \n",
       "\n",
       "   RUL_102_minutes  \n",
       "0        50.931950  \n",
       "1        50.465283  \n",
       "2        49.965283  \n",
       "3        49.965283  \n",
       "4        49.515283  "
      ]
     },
     "execution_count": 172,
     "metadata": {},
     "output_type": "execute_result"
    }
   ],
   "source": [
    "df2 = pd.read_csv('df_sensor_stop102.csv').drop(['Unnamed: 0', 'next_time', 'next_stop_102_time' ], axis=1)\n",
    "df3 = pd.read_csv('df_sensor_stop103.csv').drop(['Unnamed: 0', 'next_time', 'next_stop_103_time' ], axis=1)\n",
    "\n",
    "df2['RUL_102_minutes'] = df2['RUL_102'].apply(convert_to_minutes)\n",
    "df2['RUL_102_minutes'] = pd.to_numeric(df2['RUL_102_minutes'], errors='coerce').astype(float)\n",
    "df2 = df2.drop('RUL_102', axis=1)\n",
    "df3['RUL_103_minutes'] = df3['RUL_101'].apply(convert_to_minutes)\n",
    "df3['RUL_103_minutes'] = pd.to_numeric(df3['RUL_103_minutes'], errors='coerce').astype(float)\n",
    "df3 = df3.drop('RUL_101', axis=1)\n",
    "df2.head()"
   ]
  },
  {
   "cell_type": "code",
   "execution_count": 159,
   "metadata": {},
   "outputs": [
    {
     "data": {
      "text/plain": [
       "NaN                   67.200887\n",
       "Mekaniskt fel         20.743877\n",
       "Reparatör på plats    12.055236\n",
       "Name: next_stop_102_type, dtype: float64"
      ]
     },
     "execution_count": 159,
     "metadata": {},
     "output_type": "execute_result"
    },
    {
     "data": {
      "image/png": "[encoded data removed]",
      "text/plain": [
       "<Figure size 1750x500 with 1 Axes>"
      ]
     },
     "metadata": {},
     "output_type": "display_data"
    }
   ],
   "source": [
    "value_counts = df2.next_stop_102_type.value_counts(dropna=False).sort_values(ascending=False)\n",
    "top_values = value_counts.head(4)\n",
    "percentage = (top_values / len(df)) * 100\n",
    "sns.displot(data=df2, x=\"next_stop_102_type\", kde=False, bins = 100,color = \"blue\", facecolor = \"lightgreen\",height = 5, aspect = 3.5)\n",
    "percentage"
   ]
  },
  {
   "cell_type": "code",
   "execution_count": 160,
   "metadata": {},
   "outputs": [
    {
     "data": {
      "text/plain": [
       "NaN                        67.200887\n",
       "102. Uppmatning tak        12.055236\n",
       "102. Dorn ruggskåp          8.809596\n",
       "102. Avskjutning rullar     8.557605\n",
       "102. Pusher in/ut           3.376676\n",
       "Name: next_stop_102_information, dtype: float64"
      ]
     },
     "execution_count": 160,
     "metadata": {},
     "output_type": "execute_result"
    },
    {
     "data": {
      "image/png": "[encoded data removed]",
      "text/plain": [
       "<Figure size 1750x500 with 1 Axes>"
      ]
     },
     "metadata": {},
     "output_type": "display_data"
    }
   ],
   "source": [
    "value_counts = df2.next_stop_102_information.value_counts(dropna=False).sort_values(ascending=False)\n",
    "top_values = value_counts.head(9)\n",
    "percentage = (top_values / len(df)) * 100\n",
    "sns.displot(data=df2, x=\"next_stop_102_information\", kde=False, bins = 100,color = \"blue\", facecolor = \"lightgreen\",height = 5, aspect = 3.5)\n",
    "percentage"
   ]
  },
  {
   "cell_type": "code",
   "execution_count": 162,
   "metadata": {},
   "outputs": [
    {
     "data": {
      "text/plain": [
       "NaN              67.200887\n",
       "Mekaniskt fel    32.799113\n",
       "Name: next_stop_103_type, dtype: float64"
      ]
     },
     "execution_count": 162,
     "metadata": {},
     "output_type": "execute_result"
    },
    {
     "data": {
      "image/png": "[encoded data removed]",
      "text/plain": [
       "<Figure size 1750x500 with 1 Axes>"
      ]
     },
     "metadata": {},
     "output_type": "display_data"
    }
   ],
   "source": [
    "value_counts = df3.next_stop_103_type.value_counts(dropna=False).sort_values(ascending=False)\n",
    "top_values = value_counts.head(3)\n",
    "percentage = (top_values / len(df)) * 100\n",
    "sns.displot(data=df3, x=\"next_stop_103_type\", kde=False, bins = 100,color = \"blue\", facecolor = \"lightgreen\",height = 5, aspect = 3.5)\n",
    "percentage"
   ]
  },
  {
   "cell_type": "code",
   "execution_count": 161,
   "metadata": {},
   "outputs": [
    {
     "data": {
      "text/plain": [
       "NaN                       67.200887\n",
       "103. Montering gavel      14.917851\n",
       "103. Matning gavel        12.680173\n",
       "103. Montering lagring     5.201089\n",
       "Name: next_stop_103_information, dtype: float64"
      ]
     },
     "execution_count": 161,
     "metadata": {},
     "output_type": "execute_result"
    },
    {
     "data": {
      "image/png": "[encoded data removed]",
      "text/plain": [
       "<Figure size 1750x500 with 1 Axes>"
      ]
     },
     "metadata": {},
     "output_type": "display_data"
    }
   ],
   "source": [
    "value_counts = df3.next_stop_103_information.value_counts(dropna=False).sort_values(ascending=False)\n",
    "top_values = value_counts.head(9)\n",
    "percentage = (top_values / len(df)) * 100\n",
    "sns.displot(data=df3, x=\"next_stop_103_information\", kde=False, bins = 100,color = \"blue\", facecolor = \"lightgreen\",height = 5, aspect = 3.5)\n",
    "percentage"
   ]
  },
  {
   "cell_type": "code",
   "execution_count": 85,
   "metadata": {},
   "outputs": [
    {
     "name": "stdout",
     "output_type": "stream",
     "text": [
      "<class 'pandas.core.frame.DataFrame'>\n",
      "RangeIndex: 9921 entries, 0 to 9920\n",
      "Data columns (total 19 columns):\n",
      " #   Column                     Non-Null Count  Dtype  \n",
      "---  ------                     --------------  -----  \n",
      " 0   Unnamed: 0                 9921 non-null   int64  \n",
      " 1   time                       9921 non-null   object \n",
      " 2   humi_s101                  8921 non-null   float64\n",
      " 3   humi_s1021                 9921 non-null   float64\n",
      " 4   humi_s1022                 9921 non-null   float64\n",
      " 5   humi_s103                  9921 non-null   float64\n",
      " 6   press_s101                 9921 non-null   float64\n",
      " 7   press_s1021                9921 non-null   float64\n",
      " 8   press_s1022                9921 non-null   float64\n",
      " 9   press_s103                 9921 non-null   float64\n",
      " 10  temp_s101                  9921 non-null   float64\n",
      " 11  temp_s1021                 9921 non-null   float64\n",
      " 12  temp_s1022                 9921 non-null   float64\n",
      " 13  temp_s103                  9921 non-null   float64\n",
      " 14  next_time                  9920 non-null   object \n",
      " 15  next_stop_102_time         3254 non-null   object \n",
      " 16  next_stop_102_type         3254 non-null   object \n",
      " 17  next_stop_102_information  3254 non-null   object \n",
      " 18  RUL_102                    3254 non-null   object \n",
      "dtypes: float64(12), int64(1), object(6)\n",
      "memory usage: 1.4+ MB\n"
     ]
    }
   ],
   "source": [
    "df2.info()"
   ]
  }
 ],
 "metadata": {
  "kernelspec": {
   "display_name": "Python 3",
   "language": "python",
   "name": "python3"
  },
  "language_info": {
   "codemirror_mode": {
    "name": "ipython",
    "version": 3
   },
   "file_extension": ".py",
   "mimetype": "text/x-python",
   "name": "python",
   "nbconvert_exporter": "python",
   "pygments_lexer": "ipython3",
   "version": "3.10.10"
  },
  "orig_nbformat": 4
 },
 "nbformat": 4,
 "nbformat_minor": 2
}
