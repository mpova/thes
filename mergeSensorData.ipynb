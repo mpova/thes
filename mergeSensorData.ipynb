{
 "cells": [
  {
   "cell_type": "code",
   "execution_count": 1,
   "id": "89481eae",
   "metadata": {},
   "outputs": [],
   "source": [
    "import pandas as pd\n",
    "import numpy as np"
   ]
  },
  {
   "cell_type": "code",
   "execution_count": 17,
   "id": "9f9fea42",
   "metadata": {},
   "outputs": [],
   "source": [
    "columns = [\"time\", \"humi_s101\", \"humi_s1021\", \"humi_s1022\", \"humi_s103\", \"press_s101\",\n",
    "                             \"press_s1021\", \"press_s1022\", \"press_s103\", \"temp_s101\", \"temp_s1021\",\n",
    "                             \"temp_s1022\", \"temp_s103\"]"
   ]
  },
  {
   "cell_type": "markdown",
   "id": "8cbd39d1",
   "metadata": {},
   "source": [
    "## merge all txt files"
   ]
  },
  {
   "cell_type": "code",
   "execution_count": 137,
   "id": "ed12523b",
   "metadata": {},
   "outputs": [],
   "source": [
    "df = pd.DataFrame(columns=columns)"
   ]
  },
  {
   "cell_type": "code",
   "execution_count": 138,
   "id": "25062108",
   "metadata": {},
   "outputs": [],
   "source": [
    "import glob, os\n",
    "\n",
    "for file in glob.glob(\"*.txt\"):\n",
    "    if \"output\" in file:\n",
    "        data = pd.read_csv(file, names=columns, header=None, index_col=False)\n",
    "        df = pd.concat([df, data], ignore_index=True)"
   ]
  },
  {
   "cell_type": "code",
   "execution_count": 146,
   "id": "28f27aa6",
   "metadata": {},
   "outputs": [],
   "source": [
    "df[\"time\"] = pd.to_datetime(df[\"time\"], format='%Y-%m-%d %H-%M-%S')"
   ]
  },
  {
   "cell_type": "code",
   "execution_count": null,
   "id": "7bda0f8a",
   "metadata": {},
   "outputs": [],
   "source": []
  },
  {
   "cell_type": "code",
   "execution_count": 157,
   "id": "10c87e49",
   "metadata": {},
   "outputs": [],
   "source": [
    "df_1 = pd.DataFrame(columns=columns)"
   ]
  },
  {
   "cell_type": "code",
   "execution_count": 158,
   "id": "97f0843f",
   "metadata": {},
   "outputs": [],
   "source": [
    "import glob, os\n",
    "\n",
    "for file in glob.glob(\"*.txt\"):\n",
    "    if \"T\" in file:\n",
    "        data = pd.read_csv(file, names=columns, header=None, index_col=False)\n",
    "        df_1 = pd.concat([df_1, data], ignore_index=True)"
   ]
  },
  {
   "cell_type": "code",
   "execution_count": 163,
   "id": "c73889ff",
   "metadata": {},
   "outputs": [],
   "source": [
    "df_1[\"time\"] = pd.to_datetime(df_1[\"time\"], format='%Y-%m-%dT%H:%M:%S.%f')"
   ]
  },
  {
   "cell_type": "markdown",
   "id": "7cec8e90",
   "metadata": {},
   "source": [
    "## remove duplicates"
   ]
  },
  {
   "cell_type": "code",
   "execution_count": 164,
   "id": "19df8d1e",
   "metadata": {},
   "outputs": [],
   "source": [
    "df = pd.concat([df, df_1], ignore_index=True)"
   ]
  },
  {
   "cell_type": "code",
   "execution_count": 175,
   "id": "6023cb8d",
   "metadata": {},
   "outputs": [],
   "source": [
    "df = df.drop_duplicates()"
   ]
  },
  {
   "cell_type": "code",
   "execution_count": null,
   "id": "ed35aaac",
   "metadata": {},
   "outputs": [],
   "source": []
  },
  {
   "cell_type": "code",
   "execution_count": null,
   "id": "814299c6",
   "metadata": {},
   "outputs": [],
   "source": []
  },
  {
   "cell_type": "markdown",
   "id": "48459f71",
   "metadata": {},
   "source": [
    "## merge file sensor data"
   ]
  },
  {
   "cell_type": "code",
   "execution_count": 106,
   "id": "ba8850a4",
   "metadata": {},
   "outputs": [],
   "source": [
    "# save the whole dataframe\n",
    "df_3 = pd.DataFrame()"
   ]
  },
  {
   "cell_type": "code",
   "execution_count": 107,
   "id": "d9545956",
   "metadata": {},
   "outputs": [],
   "source": [
    "for folder in glob.glob(\"*\"):\n",
    "    if not folder.endswith ('.txt') and \"2023\" in folder:\n",
    "        \n",
    "        # save dataframe for each folder\n",
    "        df_2 = pd.DataFrame()\n",
    "        for file in glob.glob(folder+\"/*\"):\n",
    "\n",
    "            start = file.find('output_')+7\n",
    "            end = file.find('.csv', start)\n",
    "            data_2 = pd.read_csv(file,names=[\"time_\"+file[start:end],file[start:end]],index_col=False).tail(-1)\n",
    "            df_2 = pd.concat([df_2, data_2], axis=1)\n",
    "        df_3 = pd.concat([df_3, df_2], ignore_index=True)\n"
   ]
  },
  {
   "cell_type": "code",
   "execution_count": 109,
   "id": "292d191a",
   "metadata": {},
   "outputs": [],
   "source": [
    "df_3 = df_3[[\"time_temp_s103\", \"humi_s101\", \"humi_s1021\", \"humi_s1022\", \"humi_s103\", \"press_s101\",\n",
    "                             \"press_s1021\", \"press_s1022\", \"press_s103\", \"temp_s101\", \"temp_s1021\",\n",
    "                             \"temp_s1022\", \"temp_s103\"]]"
   ]
  },
  {
   "cell_type": "code",
   "execution_count": 112,
   "id": "dcbad2c3",
   "metadata": {},
   "outputs": [
    {
     "data": {
      "text/html": [
       "<div>\n",
       "<style scoped>\n",
       "    .dataframe tbody tr th:only-of-type {\n",
       "        vertical-align: middle;\n",
       "    }\n",
       "\n",
       "    .dataframe tbody tr th {\n",
       "        vertical-align: top;\n",
       "    }\n",
       "\n",
       "    .dataframe thead th {\n",
       "        text-align: right;\n",
       "    }\n",
       "</style>\n",
       "<table border=\"1\" class=\"dataframe\">\n",
       "  <thead>\n",
       "    <tr style=\"text-align: right;\">\n",
       "      <th></th>\n",
       "      <th>time_temp_s103</th>\n",
       "      <th>humi_s101</th>\n",
       "      <th>humi_s1021</th>\n",
       "      <th>humi_s1022</th>\n",
       "      <th>humi_s103</th>\n",
       "      <th>press_s101</th>\n",
       "      <th>press_s1021</th>\n",
       "      <th>press_s1022</th>\n",
       "      <th>press_s103</th>\n",
       "      <th>temp_s101</th>\n",
       "      <th>temp_s1021</th>\n",
       "      <th>temp_s1022</th>\n",
       "      <th>temp_s103</th>\n",
       "    </tr>\n",
       "  </thead>\n",
       "  <tbody>\n",
       "    <tr>\n",
       "      <th>0</th>\n",
       "      <td>2023-03-08 21:23:36</td>\n",
       "      <td>2147483647</td>\n",
       "      <td>0</td>\n",
       "      <td>0</td>\n",
       "      <td>3833</td>\n",
       "      <td>210278</td>\n",
       "      <td>0</td>\n",
       "      <td>0</td>\n",
       "      <td>345357</td>\n",
       "      <td>2147483647</td>\n",
       "      <td>0</td>\n",
       "      <td>0</td>\n",
       "      <td>2058</td>\n",
       "    </tr>\n",
       "    <tr>\n",
       "      <th>1</th>\n",
       "      <td>2023-03-08 07:45:33</td>\n",
       "      <td>2147483647</td>\n",
       "      <td>0</td>\n",
       "      <td>0</td>\n",
       "      <td>3876</td>\n",
       "      <td>210278</td>\n",
       "      <td>0</td>\n",
       "      <td>0</td>\n",
       "      <td>97829</td>\n",
       "      <td>2147483647</td>\n",
       "      <td>0</td>\n",
       "      <td>0</td>\n",
       "      <td>2058</td>\n",
       "    </tr>\n",
       "    <tr>\n",
       "      <th>2</th>\n",
       "      <td>2023-03-08 07:44:55</td>\n",
       "      <td>2147483647</td>\n",
       "      <td>0</td>\n",
       "      <td>0</td>\n",
       "      <td>3915</td>\n",
       "      <td>210278</td>\n",
       "      <td>0</td>\n",
       "      <td>0</td>\n",
       "      <td>97830</td>\n",
       "      <td>2147483647</td>\n",
       "      <td>0</td>\n",
       "      <td>0</td>\n",
       "      <td>2058</td>\n",
       "    </tr>\n",
       "    <tr>\n",
       "      <th>3</th>\n",
       "      <td>2023-03-08 07:44:28</td>\n",
       "      <td>2147483647</td>\n",
       "      <td>0</td>\n",
       "      <td>0</td>\n",
       "      <td>3973</td>\n",
       "      <td>210278</td>\n",
       "      <td>0</td>\n",
       "      <td>0</td>\n",
       "      <td>97826</td>\n",
       "      <td>2147483647</td>\n",
       "      <td>0</td>\n",
       "      <td>0</td>\n",
       "      <td>2058</td>\n",
       "    </tr>\n",
       "    <tr>\n",
       "      <th>4</th>\n",
       "      <td>2023-03-08 07:44:02</td>\n",
       "      <td>2147483647</td>\n",
       "      <td>0</td>\n",
       "      <td>0</td>\n",
       "      <td>3984</td>\n",
       "      <td>210278</td>\n",
       "      <td>0</td>\n",
       "      <td>0</td>\n",
       "      <td>97830</td>\n",
       "      <td>2147483647</td>\n",
       "      <td>0</td>\n",
       "      <td>0</td>\n",
       "      <td>2059</td>\n",
       "    </tr>\n",
       "  </tbody>\n",
       "</table>\n",
       "</div>"
      ],
      "text/plain": [
       "        time_temp_s103   humi_s101 humi_s1021 humi_s1022 humi_s103 press_s101  \\\n",
       "0  2023-03-08 21:23:36  2147483647          0          0      3833     210278   \n",
       "1  2023-03-08 07:45:33  2147483647          0          0      3876     210278   \n",
       "2  2023-03-08 07:44:55  2147483647          0          0      3915     210278   \n",
       "3  2023-03-08 07:44:28  2147483647          0          0      3973     210278   \n",
       "4  2023-03-08 07:44:02  2147483647          0          0      3984     210278   \n",
       "\n",
       "  press_s1021 press_s1022 press_s103   temp_s101 temp_s1021 temp_s1022  \\\n",
       "0           0           0     345357  2147483647          0          0   \n",
       "1           0           0      97829  2147483647          0          0   \n",
       "2           0           0      97830  2147483647          0          0   \n",
       "3           0           0      97826  2147483647          0          0   \n",
       "4           0           0      97830  2147483647          0          0   \n",
       "\n",
       "  temp_s103  \n",
       "0      2058  \n",
       "1      2058  \n",
       "2      2058  \n",
       "3      2058  \n",
       "4      2059  "
      ]
     },
     "execution_count": 112,
     "metadata": {},
     "output_type": "execute_result"
    }
   ],
   "source": [
    "df_3.head()"
   ]
  },
  {
   "cell_type": "code",
   "execution_count": 84,
   "id": "3c6d9b4d",
   "metadata": {},
   "outputs": [],
   "source": []
  },
  {
   "cell_type": "code",
   "execution_count": 121,
   "id": "d2c6c20c",
   "metadata": {},
   "outputs": [],
   "source": [
    "df_3 = df_3.rename(columns = {'time_temp_s103':'time'})"
   ]
  },
  {
   "cell_type": "code",
   "execution_count": 122,
   "id": "ccdab8c4",
   "metadata": {},
   "outputs": [],
   "source": [
    "df_3 = df_3.drop_duplicates()"
   ]
  },
  {
   "cell_type": "code",
   "execution_count": null,
   "id": "870838fa",
   "metadata": {},
   "outputs": [],
   "source": []
  },
  {
   "cell_type": "code",
   "execution_count": null,
   "id": "80f77623",
   "metadata": {},
   "outputs": [],
   "source": []
  },
  {
   "cell_type": "code",
   "execution_count": 179,
   "id": "5b764539",
   "metadata": {},
   "outputs": [],
   "source": [
    "df_3[\"time\"] = pd.to_datetime(df_3[\"time\"], format='%Y-%m-%d %H:%M:%S')"
   ]
  },
  {
   "cell_type": "code",
   "execution_count": null,
   "id": "1c7fc999",
   "metadata": {},
   "outputs": [],
   "source": []
  },
  {
   "cell_type": "code",
   "execution_count": null,
   "id": "9749e915",
   "metadata": {},
   "outputs": [],
   "source": []
  },
  {
   "cell_type": "code",
   "execution_count": 180,
   "id": "fc5b95a1",
   "metadata": {},
   "outputs": [],
   "source": [
    "df = pd.concat([df, df_3], ignore_index=True)"
   ]
  },
  {
   "cell_type": "code",
   "execution_count": 186,
   "id": "cf621ff7",
   "metadata": {},
   "outputs": [],
   "source": [
    "df[\"time\"] = pd.to_datetime(df[\"time\"], format='%Y-%m-%d %H:%M:%S')"
   ]
  },
  {
   "cell_type": "code",
   "execution_count": 187,
   "id": "c2bdc46b",
   "metadata": {},
   "outputs": [
    {
     "data": {
      "text/plain": [
       "array([10, 14, 16, 17, 13, 18, 19, 20,  8,  7])"
      ]
     },
     "execution_count": 187,
     "metadata": {},
     "output_type": "execute_result"
    }
   ],
   "source": [
    "df[\"time\"].dt.day.unique()"
   ]
  },
  {
   "cell_type": "code",
   "execution_count": 196,
   "id": "d8b56646",
   "metadata": {},
   "outputs": [],
   "source": [
    "df[[\"humi_s101\", \"humi_s1021\", \"humi_s1022\", \"humi_s103\", \"press_s101\",\n",
    "                             \"press_s1021\", \"press_s1022\", \"press_s103\", \"temp_s101\", \"temp_s1021\",\n",
    "                             \"temp_s1022\", \"temp_s103\"]] = df[[\"humi_s101\", \"humi_s1021\", \"humi_s1022\", \"humi_s103\", \"press_s101\",\n",
    "                             \"press_s1021\", \"press_s1022\", \"press_s103\", \"temp_s101\", \"temp_s1021\",\n",
    "                             \"temp_s1022\", \"temp_s103\"]].astype(float)"
   ]
  },
  {
   "cell_type": "code",
   "execution_count": 198,
   "id": "9f77629d",
   "metadata": {},
   "outputs": [],
   "source": [
    "df[[\"humi_s101\", \"humi_s1021\", \"humi_s1022\", \"humi_s103\", \"press_s101\",\n",
    "                             \"press_s1021\", \"press_s1022\", \"press_s103\", \"temp_s101\", \"temp_s1021\",\n",
    "                             \"temp_s1022\", \"temp_s103\"]] = df[[\"humi_s101\", \"humi_s1021\", \"humi_s1022\", \"humi_s103\", \"press_s101\",\n",
    "                             \"press_s1021\", \"press_s1022\", \"press_s103\", \"temp_s101\", \"temp_s1021\",\n",
    "                             \"temp_s1022\", \"temp_s103\"]]/100"
   ]
  },
  {
   "cell_type": "code",
   "execution_count": 204,
   "id": "315a49a9",
   "metadata": {},
   "outputs": [
    {
     "data": {
      "text/html": [
       "<div>\n",
       "<style scoped>\n",
       "    .dataframe tbody tr th:only-of-type {\n",
       "        vertical-align: middle;\n",
       "    }\n",
       "\n",
       "    .dataframe tbody tr th {\n",
       "        vertical-align: top;\n",
       "    }\n",
       "\n",
       "    .dataframe thead th {\n",
       "        text-align: right;\n",
       "    }\n",
       "</style>\n",
       "<table border=\"1\" class=\"dataframe\">\n",
       "  <thead>\n",
       "    <tr style=\"text-align: right;\">\n",
       "      <th></th>\n",
       "      <th>time</th>\n",
       "      <th>humi_s101</th>\n",
       "      <th>humi_s1021</th>\n",
       "      <th>humi_s1022</th>\n",
       "      <th>humi_s103</th>\n",
       "      <th>press_s101</th>\n",
       "      <th>press_s1021</th>\n",
       "      <th>press_s1022</th>\n",
       "      <th>press_s103</th>\n",
       "      <th>temp_s101</th>\n",
       "      <th>temp_s1021</th>\n",
       "      <th>temp_s1022</th>\n",
       "      <th>temp_s103</th>\n",
       "    </tr>\n",
       "  </thead>\n",
       "  <tbody>\n",
       "    <tr>\n",
       "      <th>0</th>\n",
       "      <td>2023-03-10 18:16:13</td>\n",
       "      <td>2.147484e+07</td>\n",
       "      <td>0.00</td>\n",
       "      <td>0.00</td>\n",
       "      <td>41.28</td>\n",
       "      <td>2102.78</td>\n",
       "      <td>0.00</td>\n",
       "      <td>0.00</td>\n",
       "      <td>3453.57</td>\n",
       "      <td>21474836.47</td>\n",
       "      <td>0.00</td>\n",
       "      <td>0.0</td>\n",
       "      <td>19.54</td>\n",
       "    </tr>\n",
       "    <tr>\n",
       "      <th>1</th>\n",
       "      <td>2023-03-14 11:11:02</td>\n",
       "      <td>2.147484e+07</td>\n",
       "      <td>21474836.47</td>\n",
       "      <td>19.13</td>\n",
       "      <td>0.00</td>\n",
       "      <td>3474.52</td>\n",
       "      <td>3600.55</td>\n",
       "      <td>3431.85</td>\n",
       "      <td>0.00</td>\n",
       "      <td>21474836.47</td>\n",
       "      <td>21474836.47</td>\n",
       "      <td>33.6</td>\n",
       "      <td>0.00</td>\n",
       "    </tr>\n",
       "    <tr>\n",
       "      <th>2</th>\n",
       "      <td>2023-03-14 11:45:31</td>\n",
       "      <td>2.147484e+07</td>\n",
       "      <td>21474836.47</td>\n",
       "      <td>19.13</td>\n",
       "      <td>0.00</td>\n",
       "      <td>3474.52</td>\n",
       "      <td>3600.55</td>\n",
       "      <td>3431.85</td>\n",
       "      <td>0.00</td>\n",
       "      <td>21474836.47</td>\n",
       "      <td>21474836.47</td>\n",
       "      <td>33.6</td>\n",
       "      <td>0.00</td>\n",
       "    </tr>\n",
       "    <tr>\n",
       "      <th>3</th>\n",
       "      <td>2023-03-14 11:46:15</td>\n",
       "      <td>2.147484e+07</td>\n",
       "      <td>21474836.47</td>\n",
       "      <td>19.13</td>\n",
       "      <td>0.00</td>\n",
       "      <td>3474.52</td>\n",
       "      <td>3600.55</td>\n",
       "      <td>3431.85</td>\n",
       "      <td>0.00</td>\n",
       "      <td>21474836.47</td>\n",
       "      <td>21474836.47</td>\n",
       "      <td>33.6</td>\n",
       "      <td>0.00</td>\n",
       "    </tr>\n",
       "    <tr>\n",
       "      <th>4</th>\n",
       "      <td>2023-03-14 11:46:58</td>\n",
       "      <td>2.147484e+07</td>\n",
       "      <td>21474836.47</td>\n",
       "      <td>19.13</td>\n",
       "      <td>0.00</td>\n",
       "      <td>3474.52</td>\n",
       "      <td>3600.55</td>\n",
       "      <td>3431.85</td>\n",
       "      <td>0.00</td>\n",
       "      <td>21474836.47</td>\n",
       "      <td>21474836.47</td>\n",
       "      <td>33.6</td>\n",
       "      <td>0.00</td>\n",
       "    </tr>\n",
       "    <tr>\n",
       "      <th>...</th>\n",
       "      <td>...</td>\n",
       "      <td>...</td>\n",
       "      <td>...</td>\n",
       "      <td>...</td>\n",
       "      <td>...</td>\n",
       "      <td>...</td>\n",
       "      <td>...</td>\n",
       "      <td>...</td>\n",
       "      <td>...</td>\n",
       "      <td>...</td>\n",
       "      <td>...</td>\n",
       "      <td>...</td>\n",
       "      <td>...</td>\n",
       "    </tr>\n",
       "    <tr>\n",
       "      <th>11917</th>\n",
       "      <td>2023-03-07 08:30:56</td>\n",
       "      <td>1.000000e-03</td>\n",
       "      <td>21474836.47</td>\n",
       "      <td>0.00</td>\n",
       "      <td>43.88</td>\n",
       "      <td>974.18</td>\n",
       "      <td>3462.51</td>\n",
       "      <td>0.00</td>\n",
       "      <td>-3538.14</td>\n",
       "      <td>24.54</td>\n",
       "      <td>75.14</td>\n",
       "      <td>0.0</td>\n",
       "      <td>21.76</td>\n",
       "    </tr>\n",
       "    <tr>\n",
       "      <th>11918</th>\n",
       "      <td>2023-03-07 08:30:56</td>\n",
       "      <td>1.000000e-03</td>\n",
       "      <td>21474836.47</td>\n",
       "      <td>0.00</td>\n",
       "      <td>44.15</td>\n",
       "      <td>974.49</td>\n",
       "      <td>3462.51</td>\n",
       "      <td>0.00</td>\n",
       "      <td>-3538.14</td>\n",
       "      <td>24.69</td>\n",
       "      <td>19.73</td>\n",
       "      <td>0.0</td>\n",
       "      <td>21.74</td>\n",
       "    </tr>\n",
       "    <tr>\n",
       "      <th>11919</th>\n",
       "      <td>2023-03-07 08:30:26</td>\n",
       "      <td>1.000000e-03</td>\n",
       "      <td>21474836.47</td>\n",
       "      <td>0.00</td>\n",
       "      <td>44.48</td>\n",
       "      <td>974.43</td>\n",
       "      <td>3462.51</td>\n",
       "      <td>0.00</td>\n",
       "      <td>-3538.14</td>\n",
       "      <td>24.69</td>\n",
       "      <td>19.69</td>\n",
       "      <td>0.0</td>\n",
       "      <td>21.73</td>\n",
       "    </tr>\n",
       "    <tr>\n",
       "      <th>11920</th>\n",
       "      <td>2023-03-07 08:29:58</td>\n",
       "      <td>1.000000e-03</td>\n",
       "      <td>21474836.47</td>\n",
       "      <td>0.00</td>\n",
       "      <td>44.37</td>\n",
       "      <td>974.28</td>\n",
       "      <td>3462.51</td>\n",
       "      <td>0.00</td>\n",
       "      <td>-3538.14</td>\n",
       "      <td>24.79</td>\n",
       "      <td>19.69</td>\n",
       "      <td>0.0</td>\n",
       "      <td>21.73</td>\n",
       "    </tr>\n",
       "    <tr>\n",
       "      <th>11921</th>\n",
       "      <td>2023-03-08 13:26:00</td>\n",
       "      <td>2.147484e+07</td>\n",
       "      <td>0.00</td>\n",
       "      <td>0.00</td>\n",
       "      <td>38.33</td>\n",
       "      <td>2102.78</td>\n",
       "      <td>0.00</td>\n",
       "      <td>0.00</td>\n",
       "      <td>3453.57</td>\n",
       "      <td>21474836.47</td>\n",
       "      <td>0.00</td>\n",
       "      <td>0.0</td>\n",
       "      <td>20.58</td>\n",
       "    </tr>\n",
       "  </tbody>\n",
       "</table>\n",
       "<p>11922 rows × 13 columns</p>\n",
       "</div>"
      ],
      "text/plain": [
       "                     time     humi_s101   humi_s1021  humi_s1022  humi_s103  \\\n",
       "0     2023-03-10 18:16:13  2.147484e+07         0.00        0.00      41.28   \n",
       "1     2023-03-14 11:11:02  2.147484e+07  21474836.47       19.13       0.00   \n",
       "2     2023-03-14 11:45:31  2.147484e+07  21474836.47       19.13       0.00   \n",
       "3     2023-03-14 11:46:15  2.147484e+07  21474836.47       19.13       0.00   \n",
       "4     2023-03-14 11:46:58  2.147484e+07  21474836.47       19.13       0.00   \n",
       "...                   ...           ...          ...         ...        ...   \n",
       "11917 2023-03-07 08:30:56  1.000000e-03  21474836.47        0.00      43.88   \n",
       "11918 2023-03-07 08:30:56  1.000000e-03  21474836.47        0.00      44.15   \n",
       "11919 2023-03-07 08:30:26  1.000000e-03  21474836.47        0.00      44.48   \n",
       "11920 2023-03-07 08:29:58  1.000000e-03  21474836.47        0.00      44.37   \n",
       "11921 2023-03-08 13:26:00  2.147484e+07         0.00        0.00      38.33   \n",
       "\n",
       "       press_s101  press_s1021  press_s1022  press_s103    temp_s101  \\\n",
       "0         2102.78         0.00         0.00     3453.57  21474836.47   \n",
       "1         3474.52      3600.55      3431.85        0.00  21474836.47   \n",
       "2         3474.52      3600.55      3431.85        0.00  21474836.47   \n",
       "3         3474.52      3600.55      3431.85        0.00  21474836.47   \n",
       "4         3474.52      3600.55      3431.85        0.00  21474836.47   \n",
       "...           ...          ...          ...         ...          ...   \n",
       "11917      974.18      3462.51         0.00    -3538.14        24.54   \n",
       "11918      974.49      3462.51         0.00    -3538.14        24.69   \n",
       "11919      974.43      3462.51         0.00    -3538.14        24.69   \n",
       "11920      974.28      3462.51         0.00    -3538.14        24.79   \n",
       "11921     2102.78         0.00         0.00     3453.57  21474836.47   \n",
       "\n",
       "        temp_s1021  temp_s1022  temp_s103  \n",
       "0             0.00         0.0      19.54  \n",
       "1      21474836.47        33.6       0.00  \n",
       "2      21474836.47        33.6       0.00  \n",
       "3      21474836.47        33.6       0.00  \n",
       "4      21474836.47        33.6       0.00  \n",
       "...            ...         ...        ...  \n",
       "11917        75.14         0.0      21.76  \n",
       "11918        19.73         0.0      21.74  \n",
       "11919        19.69         0.0      21.73  \n",
       "11920        19.69         0.0      21.73  \n",
       "11921         0.00         0.0      20.58  \n",
       "\n",
       "[11922 rows x 13 columns]"
      ]
     },
     "execution_count": 204,
     "metadata": {},
     "output_type": "execute_result"
    }
   ],
   "source": [
    "# label the missing value\n",
    "df.fillna(0.001)"
   ]
  },
  {
   "cell_type": "code",
   "execution_count": null,
   "id": "e8bd03b5",
   "metadata": {},
   "outputs": [],
   "source": []
  },
  {
   "cell_type": "code",
   "execution_count": 205,
   "id": "375fc393",
   "metadata": {},
   "outputs": [],
   "source": [
    "df.to_csv(\"sensorDataMar8toMar20.csv\")"
   ]
  },
  {
   "cell_type": "code",
   "execution_count": null,
   "id": "28c2e841",
   "metadata": {},
   "outputs": [],
   "source": []
  }
 ],
 "metadata": {
  "kernelspec": {
   "display_name": "Python 3",
   "language": "python",
   "name": "python3"
  },
  "language_info": {
   "codemirror_mode": {
    "name": "ipython",
    "version": 3
   },
   "file_extension": ".py",
   "mimetype": "text/x-python",
   "name": "python",
   "nbconvert_exporter": "python",
   "pygments_lexer": "ipython3",
   "version": "3.8.8"
  }
 },
 "nbformat": 4,
 "nbformat_minor": 5
}
