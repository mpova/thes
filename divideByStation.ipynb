{
 "cells": [
  {
   "cell_type": "code",
   "execution_count": 1,
   "id": "7b5a5fc3",
   "metadata": {},
   "outputs": [],
   "source": [
    "import pandas as pd\n",
    "import numpy as np"
   ]
  },
  {
   "cell_type": "code",
   "execution_count": 6,
   "id": "faa8d5cc",
   "metadata": {},
   "outputs": [],
   "source": [
    "df = pd.read_excel(\"P4 stop last 30 days.xlsx\")"
   ]
  },
  {
   "cell_type": "code",
   "execution_count": 9,
   "id": "8b9753fb",
   "metadata": {},
   "outputs": [
    {
     "data": {
      "text/html": [
       "<div>\n",
       "<style scoped>\n",
       "    .dataframe tbody tr th:only-of-type {\n",
       "        vertical-align: middle;\n",
       "    }\n",
       "\n",
       "    .dataframe tbody tr th {\n",
       "        vertical-align: top;\n",
       "    }\n",
       "\n",
       "    .dataframe thead th {\n",
       "        text-align: right;\n",
       "    }\n",
       "</style>\n",
       "<table border=\"1\" class=\"dataframe\">\n",
       "  <thead>\n",
       "    <tr style=\"text-align: right;\">\n",
       "      <th></th>\n",
       "      <th>Mätpunkt</th>\n",
       "      <th>Ordernummer</th>\n",
       "      <th>Artikel</th>\n",
       "      <th>Artikelnummer</th>\n",
       "      <th>Artikeltyp</th>\n",
       "      <th>Skift</th>\n",
       "      <th>Starttid</th>\n",
       "      <th>Minuter</th>\n",
       "      <th>Sluttid</th>\n",
       "      <th>Total stopptid</th>\n",
       "      <th>Stopporsak</th>\n",
       "      <th>Station</th>\n",
       "      <th>Kommentar</th>\n",
       "    </tr>\n",
       "  </thead>\n",
       "  <tbody>\n",
       "    <tr>\n",
       "      <th>0</th>\n",
       "      <td>P4</td>\n",
       "      <td>272085</td>\n",
       "      <td>MINIR MICMEX 15CM GAV GR� LAGR TRANSP</td>\n",
       "      <td>584516052</td>\n",
       "      <td>Roller</td>\n",
       "      <td>Eftermiddag</td>\n",
       "      <td>2023-03-09 19:25:24.531</td>\n",
       "      <td>253.358333</td>\n",
       "      <td>2023-03-09 23:38:46.023</td>\n",
       "      <td>04:13:21.500000</td>\n",
       "      <td>Mekaniskt fel</td>\n",
       "      <td>101. Avskärning väv</td>\n",
       "      <td>NaN</td>\n",
       "    </tr>\n",
       "    <tr>\n",
       "      <th>1</th>\n",
       "      <td>P4</td>\n",
       "      <td>272083</td>\n",
       "      <td>MINIR FILT 5CM GAV GR� LAGR TRANSP KORT</td>\n",
       "      <td>454505009</td>\n",
       "      <td>Roller</td>\n",
       "      <td>Eftermiddag</td>\n",
       "      <td>2023-03-07 20:47:50.003</td>\n",
       "      <td>5.535000</td>\n",
       "      <td>2023-03-07 20:53:22.153</td>\n",
       "      <td>00:05:32.100000</td>\n",
       "      <td>Mekaniskt fel</td>\n",
       "      <td>101. Avskärning väv</td>\n",
       "      <td>NaN</td>\n",
       "    </tr>\n",
       "    <tr>\n",
       "      <th>2</th>\n",
       "      <td>P4</td>\n",
       "      <td>271513</td>\n",
       "      <td>MINIR FILT 5CM GAV GR� LAGR TRANSP KORT</td>\n",
       "      <td>454505009</td>\n",
       "      <td>Roller</td>\n",
       "      <td>Eftermiddag</td>\n",
       "      <td>2023-03-06 21:26:33.845</td>\n",
       "      <td>3.836667</td>\n",
       "      <td>2023-03-06 21:30:24.085</td>\n",
       "      <td>00:03:50.200000</td>\n",
       "      <td>Mekaniskt fel</td>\n",
       "      <td>101. Avskärning väv</td>\n",
       "      <td>NaN</td>\n",
       "    </tr>\n",
       "    <tr>\n",
       "      <th>3</th>\n",
       "      <td>P4</td>\n",
       "      <td>271513</td>\n",
       "      <td>MINIR FILT 5CM GAV GR� LAGR TRANSP KORT</td>\n",
       "      <td>454505009</td>\n",
       "      <td>Roller</td>\n",
       "      <td>Eftermiddag</td>\n",
       "      <td>2023-03-06 20:05:01.561</td>\n",
       "      <td>11.926667</td>\n",
       "      <td>2023-03-06 20:16:57.111</td>\n",
       "      <td>00:11:55.600000</td>\n",
       "      <td>Mekaniskt fel</td>\n",
       "      <td>101. Avskärning väv</td>\n",
       "      <td>NaN</td>\n",
       "    </tr>\n",
       "    <tr>\n",
       "      <th>4</th>\n",
       "      <td>P4</td>\n",
       "      <td>271513</td>\n",
       "      <td>MINIR FILT 5CM GAV GR� LAGR TRANSP KORT</td>\n",
       "      <td>454505009</td>\n",
       "      <td>Roller</td>\n",
       "      <td>Eftermiddag</td>\n",
       "      <td>2023-03-06 18:10:22.422</td>\n",
       "      <td>4.258333</td>\n",
       "      <td>2023-03-06 18:14:37.901</td>\n",
       "      <td>00:04:15.500000</td>\n",
       "      <td>Mekaniskt fel</td>\n",
       "      <td>101. Avskärning väv</td>\n",
       "      <td>NaN</td>\n",
       "    </tr>\n",
       "  </tbody>\n",
       "</table>\n",
       "</div>"
      ],
      "text/plain": [
       "  Mätpunkt Ordernummer                                  Artikel Artikelnummer  \\\n",
       "0       P4      272085    MINIR MICMEX 15CM GAV GR� LAGR TRANSP     584516052   \n",
       "1       P4      272083  MINIR FILT 5CM GAV GR� LAGR TRANSP KORT     454505009   \n",
       "2       P4      271513  MINIR FILT 5CM GAV GR� LAGR TRANSP KORT     454505009   \n",
       "3       P4      271513  MINIR FILT 5CM GAV GR� LAGR TRANSP KORT     454505009   \n",
       "4       P4      271513  MINIR FILT 5CM GAV GR� LAGR TRANSP KORT     454505009   \n",
       "\n",
       "  Artikeltyp        Skift                Starttid     Minuter  \\\n",
       "0     Roller  Eftermiddag 2023-03-09 19:25:24.531  253.358333   \n",
       "1     Roller  Eftermiddag 2023-03-07 20:47:50.003    5.535000   \n",
       "2     Roller  Eftermiddag 2023-03-06 21:26:33.845    3.836667   \n",
       "3     Roller  Eftermiddag 2023-03-06 20:05:01.561   11.926667   \n",
       "4     Roller  Eftermiddag 2023-03-06 18:10:22.422    4.258333   \n",
       "\n",
       "                  Sluttid   Total stopptid     Stopporsak  \\\n",
       "0 2023-03-09 23:38:46.023  04:13:21.500000  Mekaniskt fel   \n",
       "1 2023-03-07 20:53:22.153  00:05:32.100000  Mekaniskt fel   \n",
       "2 2023-03-06 21:30:24.085  00:03:50.200000  Mekaniskt fel   \n",
       "3 2023-03-06 20:16:57.111  00:11:55.600000  Mekaniskt fel   \n",
       "4 2023-03-06 18:14:37.901  00:04:15.500000  Mekaniskt fel   \n",
       "\n",
       "               Station Kommentar  \n",
       "0  101. Avskärning väv       NaN  \n",
       "1  101. Avskärning väv       NaN  \n",
       "2  101. Avskärning väv       NaN  \n",
       "3  101. Avskärning väv       NaN  \n",
       "4  101. Avskärning väv       NaN  "
      ]
     },
     "execution_count": 9,
     "metadata": {},
     "output_type": "execute_result"
    }
   ],
   "source": [
    "df.head()"
   ]
  },
  {
   "cell_type": "markdown",
   "id": "4dc2c1c4",
   "metadata": {},
   "source": [
    "## remove null values in the station column"
   ]
  },
  {
   "cell_type": "code",
   "execution_count": 15,
   "id": "899976b1",
   "metadata": {},
   "outputs": [],
   "source": [
    "df = df.loc[df['Station'].notna()]"
   ]
  },
  {
   "cell_type": "markdown",
   "id": "cd130f0b",
   "metadata": {},
   "source": [
    "## keep data from Mar 7th"
   ]
  },
  {
   "cell_type": "code",
   "execution_count": 21,
   "id": "7ed805ff",
   "metadata": {},
   "outputs": [],
   "source": [
    "df = df[df[\"Sluttid\"]>\"2023-03-07 00:00:00\"]"
   ]
  },
  {
   "cell_type": "markdown",
   "id": "4c08151d",
   "metadata": {},
   "source": [
    "## save stop data for each station"
   ]
  },
  {
   "cell_type": "code",
   "execution_count": 27,
   "id": "16b90c48",
   "metadata": {},
   "outputs": [],
   "source": [
    "df.loc[df[\"Station\"].str.contains(\"101\")].to_csv(\"stopDataByStation/station101.csv\")"
   ]
  },
  {
   "cell_type": "code",
   "execution_count": 28,
   "id": "84ee6fb5",
   "metadata": {},
   "outputs": [],
   "source": [
    "df.loc[df[\"Station\"].str.contains(\"102\")].to_csv(\"stopDataByStation/station102.csv\")"
   ]
  },
  {
   "cell_type": "code",
   "execution_count": 29,
   "id": "e943ab79",
   "metadata": {},
   "outputs": [],
   "source": [
    "df.loc[df[\"Station\"].str.contains(\"103\")].to_csv(\"stopDataByStation/station103.csv\")"
   ]
  },
  {
   "cell_type": "code",
   "execution_count": null,
   "id": "450fb9e7",
   "metadata": {},
   "outputs": [],
   "source": []
  }
 ],
 "metadata": {
  "kernelspec": {
   "display_name": "Python 3",
   "language": "python",
   "name": "python3"
  },
  "language_info": {
   "codemirror_mode": {
    "name": "ipython",
    "version": 3
   },
   "file_extension": ".py",
   "mimetype": "text/x-python",
   "name": "python",
   "nbconvert_exporter": "python",
   "pygments_lexer": "ipython3",
   "version": "3.8.8"
  }
 },
 "nbformat": 4,
 "nbformat_minor": 5
}
