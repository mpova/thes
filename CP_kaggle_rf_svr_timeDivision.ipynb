{
  "cells": [
    {
      "cell_type": "markdown",
      "metadata": {
        "id": "HT4Cw54lShEl"
      },
      "source": [
        "## install and import all required packages"
      ]
    },
    {
      "cell_type": "code",
      "execution_count": 1,
      "metadata": {
        "colab": {
          "base_uri": "https://localhost:8080/"
        },
        "id": "ztenrx_9_4_z",
        "outputId": "fa6fa774-b3e0-4f27-f3c3-0713f0aa07be"
      },
      "outputs": [
        {
          "name": "stdout",
          "output_type": "stream",
          "text": [
            "Looking in indexes: https://pypi.org/simple, https://us-python.pkg.dev/colab-wheels/public/simple/\n",
            "Requirement already satisfied: mapie in /usr/local/lib/python3.9/dist-packages (0.6.4)\n",
            "Requirement already satisfied: numpy>=1.21 in /usr/local/lib/python3.9/dist-packages (from mapie) (1.22.4)\n",
            "Requirement already satisfied: packaging in /usr/local/lib/python3.9/dist-packages (from mapie) (23.0)\n",
            "Requirement already satisfied: scikit-learn in /usr/local/lib/python3.9/dist-packages (from mapie) (1.2.2)\n",
            "Requirement already satisfied: joblib>=1.1.1 in /usr/local/lib/python3.9/dist-packages (from scikit-learn->mapie) (1.2.0)\n",
            "Requirement already satisfied: scipy>=1.3.2 in /usr/local/lib/python3.9/dist-packages (from scikit-learn->mapie) (1.10.1)\n",
            "Requirement already satisfied: threadpoolctl>=2.0.0 in /usr/local/lib/python3.9/dist-packages (from scikit-learn->mapie) (3.1.0)\n"
          ]
        }
      ],
      "source": [
        "!pip install mapie"
      ]
    },
    {
      "cell_type": "code",
      "execution_count": 2,
      "metadata": {
        "id": "YGerfb8EBQ5T"
      },
      "outputs": [],
      "source": [
        "import pandas as pd\n",
        "import numpy as np"
      ]
    },
    {
      "cell_type": "code",
      "execution_count": 5,
      "metadata": {
        "colab": {
          "base_uri": "https://localhost:8080/"
        },
        "id": "BjmBy38uBQTV",
        "outputId": "4647afbe-7d9e-4aa5-b4f0-48c88e269ad6"
      },
      "outputs": [
        {
          "name": "stdout",
          "output_type": "stream",
          "text": [
            "Drive already mounted at /content/drive; to attempt to forcibly remount, call drive.mount(\"/content/drive\", force_remount=True).\n"
          ]
        }
      ],
      "source": [
        "from google.colab import drive\n",
        "drive.mount('/content/drive')"
      ]
    },
    {
      "cell_type": "markdown",
      "metadata": {
        "id": "GILShp4vSp5d"
      },
      "source": [
        "## Load the data and split it into training and testing sets"
      ]
    },
    {
      "cell_type": "markdown",
      "metadata": {
        "id": "B27hIA011TVS"
      },
      "source": [
        "### 1st dataset"
      ]
    },
    {
      "cell_type": "code",
      "execution_count": 3,
      "metadata": {
        "colab": {
          "base_uri": "https://localhost:8080/",
          "height": 206
        },
        "id": "zMzH3tDrBdRT",
        "outputId": "ee4673b7-90cf-42f6-c2ba-fede57a4d828"
      },
      "outputs": [
        {
          "data": {
            "text/html": [
              "\n",
              "  <div id=\"df-6e5c2db8-a5a5-4838-8467-08caad102308\">\n",
              "    <div class=\"colab-df-container\">\n",
              "      <div>\n",
              "<style scoped>\n",
              "    .dataframe tbody tr th:only-of-type {\n",
              "        vertical-align: middle;\n",
              "    }\n",
              "\n",
              "    .dataframe tbody tr th {\n",
              "        vertical-align: top;\n",
              "    }\n",
              "\n",
              "    .dataframe thead th {\n",
              "        text-align: right;\n",
              "    }\n",
              "</style>\n",
              "<table border=\"1\" class=\"dataframe\">\n",
              "  <thead>\n",
              "    <tr style=\"text-align: right;\">\n",
              "      <th></th>\n",
              "      <th>Data_No</th>\n",
              "      <th>Differential_pressure</th>\n",
              "      <th>Flow_rate</th>\n",
              "      <th>Time</th>\n",
              "      <th>Dust_feed</th>\n",
              "      <th>Dust</th>\n",
              "      <th>RUL</th>\n",
              "    </tr>\n",
              "  </thead>\n",
              "  <tbody>\n",
              "    <tr>\n",
              "      <th>0</th>\n",
              "      <td>1</td>\n",
              "      <td>0.271267</td>\n",
              "      <td>52.281993</td>\n",
              "      <td>0.1</td>\n",
              "      <td>236.428943</td>\n",
              "      <td>ISO 12103-1, A3 Medium Test Dust</td>\n",
              "      <td>58.9</td>\n",
              "    </tr>\n",
              "    <tr>\n",
              "      <th>1</th>\n",
              "      <td>1</td>\n",
              "      <td>0.361690</td>\n",
              "      <td>54.986671</td>\n",
              "      <td>0.2</td>\n",
              "      <td>236.428943</td>\n",
              "      <td>ISO 12103-1, A3 Medium Test Dust</td>\n",
              "      <td>58.8</td>\n",
              "    </tr>\n",
              "    <tr>\n",
              "      <th>2</th>\n",
              "      <td>1</td>\n",
              "      <td>0.000000</td>\n",
              "      <td>55.424786</td>\n",
              "      <td>0.3</td>\n",
              "      <td>236.428943</td>\n",
              "      <td>ISO 12103-1, A3 Medium Test Dust</td>\n",
              "      <td>58.7</td>\n",
              "    </tr>\n",
              "    <tr>\n",
              "      <th>3</th>\n",
              "      <td>1</td>\n",
              "      <td>2.622251</td>\n",
              "      <td>55.524146</td>\n",
              "      <td>0.4</td>\n",
              "      <td>236.428943</td>\n",
              "      <td>ISO 12103-1, A3 Medium Test Dust</td>\n",
              "      <td>58.6</td>\n",
              "    </tr>\n",
              "    <tr>\n",
              "      <th>4</th>\n",
              "      <td>1</td>\n",
              "      <td>3.888165</td>\n",
              "      <td>55.852018</td>\n",
              "      <td>0.5</td>\n",
              "      <td>236.428943</td>\n",
              "      <td>ISO 12103-1, A3 Medium Test Dust</td>\n",
              "      <td>58.5</td>\n",
              "    </tr>\n",
              "  </tbody>\n",
              "</table>\n",
              "</div>\n",
              "      <button class=\"colab-df-convert\" onclick=\"convertToInteractive('df-6e5c2db8-a5a5-4838-8467-08caad102308')\"\n",
              "              title=\"Convert this dataframe to an interactive table.\"\n",
              "              style=\"display:none;\">\n",
              "        \n",
              "  <svg xmlns=\"http://www.w3.org/2000/svg\" height=\"24px\"viewBox=\"0 0 24 24\"\n",
              "       width=\"24px\">\n",
              "    <path d=\"M0 0h24v24H0V0z\" fill=\"none\"/>\n",
              "    <path d=\"M18.56 5.44l.94 2.06.94-2.06 2.06-.94-2.06-.94-.94-2.06-.94 2.06-2.06.94zm-11 1L8.5 8.5l.94-2.06 2.06-.94-2.06-.94L8.5 2.5l-.94 2.06-2.06.94zm10 10l.94 2.06.94-2.06 2.06-.94-2.06-.94-.94-2.06-.94 2.06-2.06.94z\"/><path d=\"M17.41 7.96l-1.37-1.37c-.4-.4-.92-.59-1.43-.59-.52 0-1.04.2-1.43.59L10.3 9.45l-7.72 7.72c-.78.78-.78 2.05 0 2.83L4 21.41c.39.39.9.59 1.41.59.51 0 1.02-.2 1.41-.59l7.78-7.78 2.81-2.81c.8-.78.8-2.07 0-2.86zM5.41 20L4 18.59l7.72-7.72 1.47 1.35L5.41 20z\"/>\n",
              "  </svg>\n",
              "      </button>\n",
              "      \n",
              "  <style>\n",
              "    .colab-df-container {\n",
              "      display:flex;\n",
              "      flex-wrap:wrap;\n",
              "      gap: 12px;\n",
              "    }\n",
              "\n",
              "    .colab-df-convert {\n",
              "      background-color: #E8F0FE;\n",
              "      border: none;\n",
              "      border-radius: 50%;\n",
              "      cursor: pointer;\n",
              "      display: none;\n",
              "      fill: #1967D2;\n",
              "      height: 32px;\n",
              "      padding: 0 0 0 0;\n",
              "      width: 32px;\n",
              "    }\n",
              "\n",
              "    .colab-df-convert:hover {\n",
              "      background-color: #E2EBFA;\n",
              "      box-shadow: 0px 1px 2px rgba(60, 64, 67, 0.3), 0px 1px 3px 1px rgba(60, 64, 67, 0.15);\n",
              "      fill: #174EA6;\n",
              "    }\n",
              "\n",
              "    [theme=dark] .colab-df-convert {\n",
              "      background-color: #3B4455;\n",
              "      fill: #D2E3FC;\n",
              "    }\n",
              "\n",
              "    [theme=dark] .colab-df-convert:hover {\n",
              "      background-color: #434B5C;\n",
              "      box-shadow: 0px 1px 3px 1px rgba(0, 0, 0, 0.15);\n",
              "      filter: drop-shadow(0px 1px 2px rgba(0, 0, 0, 0.3));\n",
              "      fill: #FFFFFF;\n",
              "    }\n",
              "  </style>\n",
              "\n",
              "      <script>\n",
              "        const buttonEl =\n",
              "          document.querySelector('#df-6e5c2db8-a5a5-4838-8467-08caad102308 button.colab-df-convert');\n",
              "        buttonEl.style.display =\n",
              "          google.colab.kernel.accessAllowed ? 'block' : 'none';\n",
              "\n",
              "        async function convertToInteractive(key) {\n",
              "          const element = document.querySelector('#df-6e5c2db8-a5a5-4838-8467-08caad102308');\n",
              "          const dataTable =\n",
              "            await google.colab.kernel.invokeFunction('convertToInteractive',\n",
              "                                                     [key], {});\n",
              "          if (!dataTable) return;\n",
              "\n",
              "          const docLinkHtml = 'Like what you see? Visit the ' +\n",
              "            '<a target=\"_blank\" href=https://colab.research.google.com/notebooks/data_table.ipynb>data table notebook</a>'\n",
              "            + ' to learn more about interactive tables.';\n",
              "          element.innerHTML = '';\n",
              "          dataTable['output_type'] = 'display_data';\n",
              "          await google.colab.output.renderOutput(dataTable, element);\n",
              "          const docLink = document.createElement('div');\n",
              "          docLink.innerHTML = docLinkHtml;\n",
              "          element.appendChild(docLink);\n",
              "        }\n",
              "      </script>\n",
              "    </div>\n",
              "  </div>\n",
              "  "
            ],
            "text/plain": [
              "   Data_No  Differential_pressure  Flow_rate  Time   Dust_feed  \\\n",
              "0        1               0.271267  52.281993   0.1  236.428943   \n",
              "1        1               0.361690  54.986671   0.2  236.428943   \n",
              "2        1               0.000000  55.424786   0.3  236.428943   \n",
              "3        1               2.622251  55.524146   0.4  236.428943   \n",
              "4        1               3.888165  55.852018   0.5  236.428943   \n",
              "\n",
              "                               Dust   RUL  \n",
              "0  ISO 12103-1, A3 Medium Test Dust  58.9  \n",
              "1  ISO 12103-1, A3 Medium Test Dust  58.8  \n",
              "2  ISO 12103-1, A3 Medium Test Dust  58.7  \n",
              "3  ISO 12103-1, A3 Medium Test Dust  58.6  \n",
              "4  ISO 12103-1, A3 Medium Test Dust  58.5  "
            ]
          },
          "execution_count": 3,
          "metadata": {},
          "output_type": "execute_result"
        }
      ],
      "source": [
        "df = pd.read_csv('drive/MyDrive/Test_Data_CSV.csv')\n",
        "df.head()"
      ]
    },
    {
      "cell_type": "code",
      "execution_count": null,
      "metadata": {
        "colab": {
          "base_uri": "https://localhost:8080/"
        },
        "id": "t4-VB5Tnv7JU",
        "outputId": "139a1f5a-2a95-41f8-e787-9babc68283a1"
      },
      "outputs": [
        {
          "data": {
            "text/plain": [
              "29    2581\n",
              "18    2579\n",
              "49    2482\n",
              "28    2438\n",
              "30    1939\n",
              "17    1934\n",
              "31    1600\n",
              "19    1457\n",
              "14    1190\n",
              "13    1151\n",
              "8     1145\n",
              "23    1145\n",
              "11    1090\n",
              "15     949\n",
              "32     786\n",
              "33     785\n",
              "20     719\n",
              "6      713\n",
              "35     660\n",
              "12     623\n",
              "38     620\n",
              "4      608\n",
              "27     602\n",
              "7      593\n",
              "3      564\n",
              "16     553\n",
              "50     524\n",
              "41     499\n",
              "22     466\n",
              "9      450\n",
              "24     431\n",
              "10     408\n",
              "42     403\n",
              "26     401\n",
              "1      366\n",
              "34     330\n",
              "5      329\n",
              "39     314\n",
              "25     311\n",
              "36     302\n",
              "48     286\n",
              "2      282\n",
              "37     278\n",
              "45     272\n",
              "47     258\n",
              "44     240\n",
              "21     239\n",
              "40     194\n",
              "43     175\n",
              "46     150\n",
              "Name: Data_No, dtype: int64"
            ]
          },
          "execution_count": 64,
          "metadata": {},
          "output_type": "execute_result"
        }
      ],
      "source": [
        "df[\"Data_No\"].value_counts()"
      ]
    },
    {
      "cell_type": "code",
      "execution_count": null,
      "metadata": {
        "colab": {
          "base_uri": "https://localhost:8080/"
        },
        "id": "g4ndqHnrHTWM",
        "outputId": "c3e3e0a5-5d6c-433c-af74-274468fb82c4"
      },
      "outputs": [
        {
          "data": {
            "text/plain": [
              "39414"
            ]
          },
          "execution_count": 49,
          "metadata": {},
          "output_type": "execute_result"
        }
      ],
      "source": [
        "len(df)"
      ]
    },
    {
      "cell_type": "code",
      "execution_count": null,
      "metadata": {
        "id": "4AsV_CSj_y_z"
      },
      "outputs": [],
      "source": [
        "#X = df[df.columns[1 : -2]]\n",
        "#y = df[\"RUL\"]"
      ]
    },
    {
      "cell_type": "code",
      "execution_count": 13,
      "metadata": {
        "id": "IL87EusFwxT9"
      },
      "outputs": [],
      "source": [
        "train = df[df[\"Data_No\"]<=40]\n",
        "calibration = df[(df[\"Data_No\"]>40)&(df[\"Data_No\"]<=45)]\n",
        "test = df[df[\"Data_No\"]>45]"
      ]
    },
    {
      "cell_type": "code",
      "execution_count": null,
      "metadata": {
        "colab": {
          "base_uri": "https://localhost:8080/"
        },
        "id": "N5P6iy6cwxZZ",
        "outputId": "ef3193a5-371c-40fd-b191-bff9fa5452d9"
      },
      "outputs": [
        {
          "data": {
            "text/plain": [
              "457"
            ]
          },
          "execution_count": 16,
          "metadata": {},
          "output_type": "execute_result"
        }
      ],
      "source": [
        "len(test)"
      ]
    },
    {
      "cell_type": "code",
      "execution_count": null,
      "metadata": {
        "id": "bXlP5cL5AAML"
      },
      "outputs": [],
      "source": [
        "#from sklearn.model_selection import train_test_split\n",
        "#X_train, X_test, y_train, y_test   = train_test_split(X, y, test_size=0.1)\n"
      ]
    },
    {
      "cell_type": "code",
      "execution_count": null,
      "metadata": {
        "colab": {
          "base_uri": "https://localhost:8080/",
          "height": 206
        },
        "id": "r3LBs6SKxqqk",
        "outputId": "7793296c-1972-40e3-f16c-9aee5b5f715a"
      },
      "outputs": [
        {
          "data": {
            "text/html": [
              "\n",
              "  <div id=\"df-8eb80874-044b-4285-989a-8472b9055882\">\n",
              "    <div class=\"colab-df-container\">\n",
              "      <div>\n",
              "<style scoped>\n",
              "    .dataframe tbody tr th:only-of-type {\n",
              "        vertical-align: middle;\n",
              "    }\n",
              "\n",
              "    .dataframe tbody tr th {\n",
              "        vertical-align: top;\n",
              "    }\n",
              "\n",
              "    .dataframe thead th {\n",
              "        text-align: right;\n",
              "    }\n",
              "</style>\n",
              "<table border=\"1\" class=\"dataframe\">\n",
              "  <thead>\n",
              "    <tr style=\"text-align: right;\">\n",
              "      <th></th>\n",
              "      <th>Data_No</th>\n",
              "      <th>Differential_pressure</th>\n",
              "      <th>Flow_rate</th>\n",
              "      <th>Time</th>\n",
              "      <th>Dust_feed</th>\n",
              "      <th>Dust</th>\n",
              "      <th>RUL</th>\n",
              "    </tr>\n",
              "  </thead>\n",
              "  <tbody>\n",
              "    <tr>\n",
              "      <th>0</th>\n",
              "      <td>1</td>\n",
              "      <td>0.271267</td>\n",
              "      <td>52.281993</td>\n",
              "      <td>0.1</td>\n",
              "      <td>236.428943</td>\n",
              "      <td>ISO 12103-1, A3 Medium Test Dust</td>\n",
              "      <td>58.9</td>\n",
              "    </tr>\n",
              "    <tr>\n",
              "      <th>1</th>\n",
              "      <td>1</td>\n",
              "      <td>0.361690</td>\n",
              "      <td>54.986671</td>\n",
              "      <td>0.2</td>\n",
              "      <td>236.428943</td>\n",
              "      <td>ISO 12103-1, A3 Medium Test Dust</td>\n",
              "      <td>58.8</td>\n",
              "    </tr>\n",
              "    <tr>\n",
              "      <th>2</th>\n",
              "      <td>1</td>\n",
              "      <td>0.000000</td>\n",
              "      <td>55.424786</td>\n",
              "      <td>0.3</td>\n",
              "      <td>236.428943</td>\n",
              "      <td>ISO 12103-1, A3 Medium Test Dust</td>\n",
              "      <td>58.7</td>\n",
              "    </tr>\n",
              "    <tr>\n",
              "      <th>3</th>\n",
              "      <td>1</td>\n",
              "      <td>2.622251</td>\n",
              "      <td>55.524146</td>\n",
              "      <td>0.4</td>\n",
              "      <td>236.428943</td>\n",
              "      <td>ISO 12103-1, A3 Medium Test Dust</td>\n",
              "      <td>58.6</td>\n",
              "    </tr>\n",
              "    <tr>\n",
              "      <th>4</th>\n",
              "      <td>1</td>\n",
              "      <td>3.888165</td>\n",
              "      <td>55.852018</td>\n",
              "      <td>0.5</td>\n",
              "      <td>236.428943</td>\n",
              "      <td>ISO 12103-1, A3 Medium Test Dust</td>\n",
              "      <td>58.5</td>\n",
              "    </tr>\n",
              "  </tbody>\n",
              "</table>\n",
              "</div>\n",
              "      <button class=\"colab-df-convert\" onclick=\"convertToInteractive('df-8eb80874-044b-4285-989a-8472b9055882')\"\n",
              "              title=\"Convert this dataframe to an interactive table.\"\n",
              "              style=\"display:none;\">\n",
              "        \n",
              "  <svg xmlns=\"http://www.w3.org/2000/svg\" height=\"24px\"viewBox=\"0 0 24 24\"\n",
              "       width=\"24px\">\n",
              "    <path d=\"M0 0h24v24H0V0z\" fill=\"none\"/>\n",
              "    <path d=\"M18.56 5.44l.94 2.06.94-2.06 2.06-.94-2.06-.94-.94-2.06-.94 2.06-2.06.94zm-11 1L8.5 8.5l.94-2.06 2.06-.94-2.06-.94L8.5 2.5l-.94 2.06-2.06.94zm10 10l.94 2.06.94-2.06 2.06-.94-2.06-.94-.94-2.06-.94 2.06-2.06.94z\"/><path d=\"M17.41 7.96l-1.37-1.37c-.4-.4-.92-.59-1.43-.59-.52 0-1.04.2-1.43.59L10.3 9.45l-7.72 7.72c-.78.78-.78 2.05 0 2.83L4 21.41c.39.39.9.59 1.41.59.51 0 1.02-.2 1.41-.59l7.78-7.78 2.81-2.81c.8-.78.8-2.07 0-2.86zM5.41 20L4 18.59l7.72-7.72 1.47 1.35L5.41 20z\"/>\n",
              "  </svg>\n",
              "      </button>\n",
              "      \n",
              "  <style>\n",
              "    .colab-df-container {\n",
              "      display:flex;\n",
              "      flex-wrap:wrap;\n",
              "      gap: 12px;\n",
              "    }\n",
              "\n",
              "    .colab-df-convert {\n",
              "      background-color: #E8F0FE;\n",
              "      border: none;\n",
              "      border-radius: 50%;\n",
              "      cursor: pointer;\n",
              "      display: none;\n",
              "      fill: #1967D2;\n",
              "      height: 32px;\n",
              "      padding: 0 0 0 0;\n",
              "      width: 32px;\n",
              "    }\n",
              "\n",
              "    .colab-df-convert:hover {\n",
              "      background-color: #E2EBFA;\n",
              "      box-shadow: 0px 1px 2px rgba(60, 64, 67, 0.3), 0px 1px 3px 1px rgba(60, 64, 67, 0.15);\n",
              "      fill: #174EA6;\n",
              "    }\n",
              "\n",
              "    [theme=dark] .colab-df-convert {\n",
              "      background-color: #3B4455;\n",
              "      fill: #D2E3FC;\n",
              "    }\n",
              "\n",
              "    [theme=dark] .colab-df-convert:hover {\n",
              "      background-color: #434B5C;\n",
              "      box-shadow: 0px 1px 3px 1px rgba(0, 0, 0, 0.15);\n",
              "      filter: drop-shadow(0px 1px 2px rgba(0, 0, 0, 0.3));\n",
              "      fill: #FFFFFF;\n",
              "    }\n",
              "  </style>\n",
              "\n",
              "      <script>\n",
              "        const buttonEl =\n",
              "          document.querySelector('#df-8eb80874-044b-4285-989a-8472b9055882 button.colab-df-convert');\n",
              "        buttonEl.style.display =\n",
              "          google.colab.kernel.accessAllowed ? 'block' : 'none';\n",
              "\n",
              "        async function convertToInteractive(key) {\n",
              "          const element = document.querySelector('#df-8eb80874-044b-4285-989a-8472b9055882');\n",
              "          const dataTable =\n",
              "            await google.colab.kernel.invokeFunction('convertToInteractive',\n",
              "                                                     [key], {});\n",
              "          if (!dataTable) return;\n",
              "\n",
              "          const docLinkHtml = 'Like what you see? Visit the ' +\n",
              "            '<a target=\"_blank\" href=https://colab.research.google.com/notebooks/data_table.ipynb>data table notebook</a>'\n",
              "            + ' to learn more about interactive tables.';\n",
              "          element.innerHTML = '';\n",
              "          dataTable['output_type'] = 'display_data';\n",
              "          await google.colab.output.renderOutput(dataTable, element);\n",
              "          const docLink = document.createElement('div');\n",
              "          docLink.innerHTML = docLinkHtml;\n",
              "          element.appendChild(docLink);\n",
              "        }\n",
              "      </script>\n",
              "    </div>\n",
              "  </div>\n",
              "  "
            ],
            "text/plain": [
              "   Data_No  Differential_pressure  Flow_rate  Time   Dust_feed  \\\n",
              "0        1               0.271267  52.281993   0.1  236.428943   \n",
              "1        1               0.361690  54.986671   0.2  236.428943   \n",
              "2        1               0.000000  55.424786   0.3  236.428943   \n",
              "3        1               2.622251  55.524146   0.4  236.428943   \n",
              "4        1               3.888165  55.852018   0.5  236.428943   \n",
              "\n",
              "                               Dust   RUL  \n",
              "0  ISO 12103-1, A3 Medium Test Dust  58.9  \n",
              "1  ISO 12103-1, A3 Medium Test Dust  58.8  \n",
              "2  ISO 12103-1, A3 Medium Test Dust  58.7  \n",
              "3  ISO 12103-1, A3 Medium Test Dust  58.6  \n",
              "4  ISO 12103-1, A3 Medium Test Dust  58.5  "
            ]
          },
          "execution_count": 18,
          "metadata": {},
          "output_type": "execute_result"
        }
      ],
      "source": [
        "train.head()"
      ]
    },
    {
      "cell_type": "code",
      "execution_count": 14,
      "metadata": {
        "id": "YVq2_WpuxKyt"
      },
      "outputs": [],
      "source": [
        "X_train = train[[\"Data_No\", \"Differential_pressure\", \"Flow_rate\",\t\"Dust_feed\"]]\n",
        "y_train = train[\"RUL\"]"
      ]
    },
    {
      "cell_type": "code",
      "execution_count": 15,
      "metadata": {
        "id": "CHF28DODiXOK"
      },
      "outputs": [],
      "source": [
        "X_cali = calibration[[\"Data_No\", \"Differential_pressure\", \"Flow_rate\",\t\"Dust_feed\"]]\n",
        "y_cali = calibration[\"RUL\"]"
      ]
    },
    {
      "cell_type": "code",
      "execution_count": 16,
      "metadata": {
        "id": "1GLpscY5xelH"
      },
      "outputs": [],
      "source": [
        "X_test = test[[\"Data_No\", \"Differential_pressure\", \"Flow_rate\",\t\"Dust_feed\"]]\n",
        "y_test = test[\"RUL\"]"
      ]
    },
    {
      "cell_type": "code",
      "execution_count": null,
      "metadata": {
        "colab": {
          "base_uri": "https://localhost:8080/",
          "height": 206
        },
        "id": "uNrHEuFsx8YY",
        "outputId": "d037db16-bef9-4312-8bf2-45acb476bb28"
      },
      "outputs": [
        {
          "data": {
            "text/html": [
              "\n",
              "  <div id=\"df-65a3b8d5-db0a-46d2-9a94-3a10e3e1c609\">\n",
              "    <div class=\"colab-df-container\">\n",
              "      <div>\n",
              "<style scoped>\n",
              "    .dataframe tbody tr th:only-of-type {\n",
              "        vertical-align: middle;\n",
              "    }\n",
              "\n",
              "    .dataframe tbody tr th {\n",
              "        vertical-align: top;\n",
              "    }\n",
              "\n",
              "    .dataframe thead th {\n",
              "        text-align: right;\n",
              "    }\n",
              "</style>\n",
              "<table border=\"1\" class=\"dataframe\">\n",
              "  <thead>\n",
              "    <tr style=\"text-align: right;\">\n",
              "      <th></th>\n",
              "      <th>Data_No</th>\n",
              "      <th>Differential_pressure</th>\n",
              "      <th>Flow_rate</th>\n",
              "      <th>Dust_feed</th>\n",
              "    </tr>\n",
              "  </thead>\n",
              "  <tbody>\n",
              "    <tr>\n",
              "      <th>0</th>\n",
              "      <td>1</td>\n",
              "      <td>0.271267</td>\n",
              "      <td>52.281993</td>\n",
              "      <td>236.428943</td>\n",
              "    </tr>\n",
              "    <tr>\n",
              "      <th>1</th>\n",
              "      <td>1</td>\n",
              "      <td>0.361690</td>\n",
              "      <td>54.986671</td>\n",
              "      <td>236.428943</td>\n",
              "    </tr>\n",
              "    <tr>\n",
              "      <th>2</th>\n",
              "      <td>1</td>\n",
              "      <td>0.000000</td>\n",
              "      <td>55.424786</td>\n",
              "      <td>236.428943</td>\n",
              "    </tr>\n",
              "    <tr>\n",
              "      <th>3</th>\n",
              "      <td>1</td>\n",
              "      <td>2.622251</td>\n",
              "      <td>55.524146</td>\n",
              "      <td>236.428943</td>\n",
              "    </tr>\n",
              "    <tr>\n",
              "      <th>4</th>\n",
              "      <td>1</td>\n",
              "      <td>3.888165</td>\n",
              "      <td>55.852018</td>\n",
              "      <td>236.428943</td>\n",
              "    </tr>\n",
              "  </tbody>\n",
              "</table>\n",
              "</div>\n",
              "      <button class=\"colab-df-convert\" onclick=\"convertToInteractive('df-65a3b8d5-db0a-46d2-9a94-3a10e3e1c609')\"\n",
              "              title=\"Convert this dataframe to an interactive table.\"\n",
              "              style=\"display:none;\">\n",
              "        \n",
              "  <svg xmlns=\"http://www.w3.org/2000/svg\" height=\"24px\"viewBox=\"0 0 24 24\"\n",
              "       width=\"24px\">\n",
              "    <path d=\"M0 0h24v24H0V0z\" fill=\"none\"/>\n",
              "    <path d=\"M18.56 5.44l.94 2.06.94-2.06 2.06-.94-2.06-.94-.94-2.06-.94 2.06-2.06.94zm-11 1L8.5 8.5l.94-2.06 2.06-.94-2.06-.94L8.5 2.5l-.94 2.06-2.06.94zm10 10l.94 2.06.94-2.06 2.06-.94-2.06-.94-.94-2.06-.94 2.06-2.06.94z\"/><path d=\"M17.41 7.96l-1.37-1.37c-.4-.4-.92-.59-1.43-.59-.52 0-1.04.2-1.43.59L10.3 9.45l-7.72 7.72c-.78.78-.78 2.05 0 2.83L4 21.41c.39.39.9.59 1.41.59.51 0 1.02-.2 1.41-.59l7.78-7.78 2.81-2.81c.8-.78.8-2.07 0-2.86zM5.41 20L4 18.59l7.72-7.72 1.47 1.35L5.41 20z\"/>\n",
              "  </svg>\n",
              "      </button>\n",
              "      \n",
              "  <style>\n",
              "    .colab-df-container {\n",
              "      display:flex;\n",
              "      flex-wrap:wrap;\n",
              "      gap: 12px;\n",
              "    }\n",
              "\n",
              "    .colab-df-convert {\n",
              "      background-color: #E8F0FE;\n",
              "      border: none;\n",
              "      border-radius: 50%;\n",
              "      cursor: pointer;\n",
              "      display: none;\n",
              "      fill: #1967D2;\n",
              "      height: 32px;\n",
              "      padding: 0 0 0 0;\n",
              "      width: 32px;\n",
              "    }\n",
              "\n",
              "    .colab-df-convert:hover {\n",
              "      background-color: #E2EBFA;\n",
              "      box-shadow: 0px 1px 2px rgba(60, 64, 67, 0.3), 0px 1px 3px 1px rgba(60, 64, 67, 0.15);\n",
              "      fill: #174EA6;\n",
              "    }\n",
              "\n",
              "    [theme=dark] .colab-df-convert {\n",
              "      background-color: #3B4455;\n",
              "      fill: #D2E3FC;\n",
              "    }\n",
              "\n",
              "    [theme=dark] .colab-df-convert:hover {\n",
              "      background-color: #434B5C;\n",
              "      box-shadow: 0px 1px 3px 1px rgba(0, 0, 0, 0.15);\n",
              "      filter: drop-shadow(0px 1px 2px rgba(0, 0, 0, 0.3));\n",
              "      fill: #FFFFFF;\n",
              "    }\n",
              "  </style>\n",
              "\n",
              "      <script>\n",
              "        const buttonEl =\n",
              "          document.querySelector('#df-65a3b8d5-db0a-46d2-9a94-3a10e3e1c609 button.colab-df-convert');\n",
              "        buttonEl.style.display =\n",
              "          google.colab.kernel.accessAllowed ? 'block' : 'none';\n",
              "\n",
              "        async function convertToInteractive(key) {\n",
              "          const element = document.querySelector('#df-65a3b8d5-db0a-46d2-9a94-3a10e3e1c609');\n",
              "          const dataTable =\n",
              "            await google.colab.kernel.invokeFunction('convertToInteractive',\n",
              "                                                     [key], {});\n",
              "          if (!dataTable) return;\n",
              "\n",
              "          const docLinkHtml = 'Like what you see? Visit the ' +\n",
              "            '<a target=\"_blank\" href=https://colab.research.google.com/notebooks/data_table.ipynb>data table notebook</a>'\n",
              "            + ' to learn more about interactive tables.';\n",
              "          element.innerHTML = '';\n",
              "          dataTable['output_type'] = 'display_data';\n",
              "          await google.colab.output.renderOutput(dataTable, element);\n",
              "          const docLink = document.createElement('div');\n",
              "          docLink.innerHTML = docLinkHtml;\n",
              "          element.appendChild(docLink);\n",
              "        }\n",
              "      </script>\n",
              "    </div>\n",
              "  </div>\n",
              "  "
            ],
            "text/plain": [
              "   Data_No  Differential_pressure  Flow_rate   Dust_feed\n",
              "0        1               0.271267  52.281993  236.428943\n",
              "1        1               0.361690  54.986671  236.428943\n",
              "2        1               0.000000  55.424786  236.428943\n",
              "3        1               2.622251  55.524146  236.428943\n",
              "4        1               3.888165  55.852018  236.428943"
            ]
          },
          "execution_count": 26,
          "metadata": {},
          "output_type": "execute_result"
        }
      ],
      "source": [
        "X_train.head()"
      ]
    },
    {
      "cell_type": "code",
      "execution_count": null,
      "metadata": {
        "colab": {
          "base_uri": "https://localhost:8080/"
        },
        "id": "DqnLF2gIx8be",
        "outputId": "937f472c-9d4d-4915-c2bf-754d0cf98498"
      },
      "outputs": [
        {
          "data": {
            "text/plain": [
              "0    58.9\n",
              "1    58.8\n",
              "2    58.7\n",
              "3    58.6\n",
              "4    58.5\n",
              "Name: RUL, dtype: float64"
            ]
          },
          "execution_count": 27,
          "metadata": {},
          "output_type": "execute_result"
        }
      ],
      "source": [
        "y_train.head()"
      ]
    },
    {
      "cell_type": "code",
      "execution_count": null,
      "metadata": {
        "colab": {
          "base_uri": "https://localhost:8080/"
        },
        "id": "H57y2DxyHdMs",
        "outputId": "5853ec54-3382-48f6-a343-a5149a196f95"
      },
      "outputs": [
        {
          "name": "stdout",
          "output_type": "stream",
          "text": [
            "35714\n",
            "3700\n"
          ]
        }
      ],
      "source": [
        "print(len(train))\n",
        "print(len(test))"
      ]
    },
    {
      "cell_type": "code",
      "execution_count": null,
      "metadata": {
        "id": "Ii010hVq0-bi"
      },
      "outputs": [],
      "source": []
    },
    {
      "cell_type": "markdown",
      "metadata": {
        "id": "HzenOkUM1GQj"
      },
      "source": [
        "### 2nd dataset"
      ]
    },
    {
      "cell_type": "code",
      "execution_count": 4,
      "metadata": {
        "colab": {
          "base_uri": "https://localhost:8080/"
        },
        "id": "0bL3_LDo0-oC",
        "outputId": "8828cd93-a54a-4a38-915a-697467e4ccf2"
      },
      "outputs": [
        {
          "data": {
            "text/plain": [
              "166441"
            ]
          },
          "execution_count": 4,
          "metadata": {},
          "output_type": "execute_result"
        }
      ],
      "source": [
        "df_2 = pd.read_csv('drive/MyDrive/Second_dataset_rul.csv')\n",
        "len(df_2)"
      ]
    },
    {
      "cell_type": "code",
      "execution_count": null,
      "metadata": {
        "colab": {
          "base_uri": "https://localhost:8080/",
          "height": 404
        },
        "id": "Ef_3Qm1A1L_N",
        "outputId": "2e1752d2-39b1-4854-8d4b-b8fa79c8296b"
      },
      "outputs": [
        {
          "data": {
            "text/html": [
              "\n",
              "  <div id=\"df-5521cfb3-7e5b-4c05-8f8c-12ddbba14a80\">\n",
              "    <div class=\"colab-df-container\">\n",
              "      <div>\n",
              "<style scoped>\n",
              "    .dataframe tbody tr th:only-of-type {\n",
              "        vertical-align: middle;\n",
              "    }\n",
              "\n",
              "    .dataframe tbody tr th {\n",
              "        vertical-align: top;\n",
              "    }\n",
              "\n",
              "    .dataframe thead th {\n",
              "        text-align: right;\n",
              "    }\n",
              "</style>\n",
              "<table border=\"1\" class=\"dataframe\">\n",
              "  <thead>\n",
              "    <tr style=\"text-align: right;\">\n",
              "      <th></th>\n",
              "      <th>Unnamed: 0</th>\n",
              "      <th>timestamp</th>\n",
              "      <th>sensor_00</th>\n",
              "      <th>sensor_01</th>\n",
              "      <th>sensor_02</th>\n",
              "      <th>sensor_03</th>\n",
              "      <th>sensor_04</th>\n",
              "      <th>sensor_05</th>\n",
              "      <th>sensor_06</th>\n",
              "      <th>sensor_07</th>\n",
              "      <th>...</th>\n",
              "      <th>sensor_42</th>\n",
              "      <th>sensor_43</th>\n",
              "      <th>sensor_44</th>\n",
              "      <th>sensor_45</th>\n",
              "      <th>sensor_46</th>\n",
              "      <th>sensor_47</th>\n",
              "      <th>sensor_48</th>\n",
              "      <th>sensor_49</th>\n",
              "      <th>sensor_51</th>\n",
              "      <th>rul</th>\n",
              "    </tr>\n",
              "  </thead>\n",
              "  <tbody>\n",
              "    <tr>\n",
              "      <th>0</th>\n",
              "      <td>0</td>\n",
              "      <td>2018-04-01 00:00:00</td>\n",
              "      <td>2.465394</td>\n",
              "      <td>47.09201</td>\n",
              "      <td>53.2118</td>\n",
              "      <td>46.310760</td>\n",
              "      <td>634.3750</td>\n",
              "      <td>76.45975</td>\n",
              "      <td>13.41146</td>\n",
              "      <td>16.13136</td>\n",
              "      <td>...</td>\n",
              "      <td>31.770832</td>\n",
              "      <td>41.92708</td>\n",
              "      <td>39.641200</td>\n",
              "      <td>65.68287</td>\n",
              "      <td>50.92593</td>\n",
              "      <td>38.194440</td>\n",
              "      <td>157.9861</td>\n",
              "      <td>67.70834</td>\n",
              "      <td>201.3889</td>\n",
              "      <td>285.916667</td>\n",
              "    </tr>\n",
              "    <tr>\n",
              "      <th>1</th>\n",
              "      <td>1</td>\n",
              "      <td>2018-04-01 00:01:00</td>\n",
              "      <td>2.465394</td>\n",
              "      <td>47.09201</td>\n",
              "      <td>53.2118</td>\n",
              "      <td>46.310760</td>\n",
              "      <td>634.3750</td>\n",
              "      <td>76.45975</td>\n",
              "      <td>13.41146</td>\n",
              "      <td>16.13136</td>\n",
              "      <td>...</td>\n",
              "      <td>31.770832</td>\n",
              "      <td>41.92708</td>\n",
              "      <td>39.641200</td>\n",
              "      <td>65.68287</td>\n",
              "      <td>50.92593</td>\n",
              "      <td>38.194440</td>\n",
              "      <td>157.9861</td>\n",
              "      <td>67.70834</td>\n",
              "      <td>201.3889</td>\n",
              "      <td>285.900000</td>\n",
              "    </tr>\n",
              "    <tr>\n",
              "      <th>2</th>\n",
              "      <td>2</td>\n",
              "      <td>2018-04-01 00:02:00</td>\n",
              "      <td>2.444734</td>\n",
              "      <td>47.35243</td>\n",
              "      <td>53.2118</td>\n",
              "      <td>46.397570</td>\n",
              "      <td>638.8889</td>\n",
              "      <td>73.54598</td>\n",
              "      <td>13.32465</td>\n",
              "      <td>16.03733</td>\n",
              "      <td>...</td>\n",
              "      <td>31.770830</td>\n",
              "      <td>41.66666</td>\n",
              "      <td>39.351852</td>\n",
              "      <td>65.39352</td>\n",
              "      <td>51.21528</td>\n",
              "      <td>38.194443</td>\n",
              "      <td>155.9606</td>\n",
              "      <td>67.12963</td>\n",
              "      <td>203.7037</td>\n",
              "      <td>285.883333</td>\n",
              "    </tr>\n",
              "    <tr>\n",
              "      <th>3</th>\n",
              "      <td>3</td>\n",
              "      <td>2018-04-01 00:03:00</td>\n",
              "      <td>2.460474</td>\n",
              "      <td>47.09201</td>\n",
              "      <td>53.1684</td>\n",
              "      <td>46.397568</td>\n",
              "      <td>628.1250</td>\n",
              "      <td>76.98898</td>\n",
              "      <td>13.31742</td>\n",
              "      <td>16.24711</td>\n",
              "      <td>...</td>\n",
              "      <td>31.510420</td>\n",
              "      <td>40.88541</td>\n",
              "      <td>39.062500</td>\n",
              "      <td>64.81481</td>\n",
              "      <td>51.21528</td>\n",
              "      <td>38.194440</td>\n",
              "      <td>155.9606</td>\n",
              "      <td>66.84028</td>\n",
              "      <td>203.1250</td>\n",
              "      <td>285.866667</td>\n",
              "    </tr>\n",
              "    <tr>\n",
              "      <th>4</th>\n",
              "      <td>4</td>\n",
              "      <td>2018-04-01 00:04:00</td>\n",
              "      <td>2.445718</td>\n",
              "      <td>47.13541</td>\n",
              "      <td>53.2118</td>\n",
              "      <td>46.397568</td>\n",
              "      <td>636.4583</td>\n",
              "      <td>76.58897</td>\n",
              "      <td>13.35359</td>\n",
              "      <td>16.21094</td>\n",
              "      <td>...</td>\n",
              "      <td>31.510420</td>\n",
              "      <td>41.40625</td>\n",
              "      <td>38.773150</td>\n",
              "      <td>65.10416</td>\n",
              "      <td>51.79398</td>\n",
              "      <td>38.773150</td>\n",
              "      <td>158.2755</td>\n",
              "      <td>66.55093</td>\n",
              "      <td>201.3889</td>\n",
              "      <td>285.850000</td>\n",
              "    </tr>\n",
              "  </tbody>\n",
              "</table>\n",
              "<p>5 rows × 53 columns</p>\n",
              "</div>\n",
              "      <button class=\"colab-df-convert\" onclick=\"convertToInteractive('df-5521cfb3-7e5b-4c05-8f8c-12ddbba14a80')\"\n",
              "              title=\"Convert this dataframe to an interactive table.\"\n",
              "              style=\"display:none;\">\n",
              "        \n",
              "  <svg xmlns=\"http://www.w3.org/2000/svg\" height=\"24px\"viewBox=\"0 0 24 24\"\n",
              "       width=\"24px\">\n",
              "    <path d=\"M0 0h24v24H0V0z\" fill=\"none\"/>\n",
              "    <path d=\"M18.56 5.44l.94 2.06.94-2.06 2.06-.94-2.06-.94-.94-2.06-.94 2.06-2.06.94zm-11 1L8.5 8.5l.94-2.06 2.06-.94-2.06-.94L8.5 2.5l-.94 2.06-2.06.94zm10 10l.94 2.06.94-2.06 2.06-.94-2.06-.94-.94-2.06-.94 2.06-2.06.94z\"/><path d=\"M17.41 7.96l-1.37-1.37c-.4-.4-.92-.59-1.43-.59-.52 0-1.04.2-1.43.59L10.3 9.45l-7.72 7.72c-.78.78-.78 2.05 0 2.83L4 21.41c.39.39.9.59 1.41.59.51 0 1.02-.2 1.41-.59l7.78-7.78 2.81-2.81c.8-.78.8-2.07 0-2.86zM5.41 20L4 18.59l7.72-7.72 1.47 1.35L5.41 20z\"/>\n",
              "  </svg>\n",
              "      </button>\n",
              "      \n",
              "  <style>\n",
              "    .colab-df-container {\n",
              "      display:flex;\n",
              "      flex-wrap:wrap;\n",
              "      gap: 12px;\n",
              "    }\n",
              "\n",
              "    .colab-df-convert {\n",
              "      background-color: #E8F0FE;\n",
              "      border: none;\n",
              "      border-radius: 50%;\n",
              "      cursor: pointer;\n",
              "      display: none;\n",
              "      fill: #1967D2;\n",
              "      height: 32px;\n",
              "      padding: 0 0 0 0;\n",
              "      width: 32px;\n",
              "    }\n",
              "\n",
              "    .colab-df-convert:hover {\n",
              "      background-color: #E2EBFA;\n",
              "      box-shadow: 0px 1px 2px rgba(60, 64, 67, 0.3), 0px 1px 3px 1px rgba(60, 64, 67, 0.15);\n",
              "      fill: #174EA6;\n",
              "    }\n",
              "\n",
              "    [theme=dark] .colab-df-convert {\n",
              "      background-color: #3B4455;\n",
              "      fill: #D2E3FC;\n",
              "    }\n",
              "\n",
              "    [theme=dark] .colab-df-convert:hover {\n",
              "      background-color: #434B5C;\n",
              "      box-shadow: 0px 1px 3px 1px rgba(0, 0, 0, 0.15);\n",
              "      filter: drop-shadow(0px 1px 2px rgba(0, 0, 0, 0.3));\n",
              "      fill: #FFFFFF;\n",
              "    }\n",
              "  </style>\n",
              "\n",
              "      <script>\n",
              "        const buttonEl =\n",
              "          document.querySelector('#df-5521cfb3-7e5b-4c05-8f8c-12ddbba14a80 button.colab-df-convert');\n",
              "        buttonEl.style.display =\n",
              "          google.colab.kernel.accessAllowed ? 'block' : 'none';\n",
              "\n",
              "        async function convertToInteractive(key) {\n",
              "          const element = document.querySelector('#df-5521cfb3-7e5b-4c05-8f8c-12ddbba14a80');\n",
              "          const dataTable =\n",
              "            await google.colab.kernel.invokeFunction('convertToInteractive',\n",
              "                                                     [key], {});\n",
              "          if (!dataTable) return;\n",
              "\n",
              "          const docLinkHtml = 'Like what you see? Visit the ' +\n",
              "            '<a target=\"_blank\" href=https://colab.research.google.com/notebooks/data_table.ipynb>data table notebook</a>'\n",
              "            + ' to learn more about interactive tables.';\n",
              "          element.innerHTML = '';\n",
              "          dataTable['output_type'] = 'display_data';\n",
              "          await google.colab.output.renderOutput(dataTable, element);\n",
              "          const docLink = document.createElement('div');\n",
              "          docLink.innerHTML = docLinkHtml;\n",
              "          element.appendChild(docLink);\n",
              "        }\n",
              "      </script>\n",
              "    </div>\n",
              "  </div>\n",
              "  "
            ],
            "text/plain": [
              "   Unnamed: 0            timestamp  sensor_00  sensor_01  sensor_02  \\\n",
              "0           0  2018-04-01 00:00:00   2.465394   47.09201    53.2118   \n",
              "1           1  2018-04-01 00:01:00   2.465394   47.09201    53.2118   \n",
              "2           2  2018-04-01 00:02:00   2.444734   47.35243    53.2118   \n",
              "3           3  2018-04-01 00:03:00   2.460474   47.09201    53.1684   \n",
              "4           4  2018-04-01 00:04:00   2.445718   47.13541    53.2118   \n",
              "\n",
              "   sensor_03  sensor_04  sensor_05  sensor_06  sensor_07  ...  sensor_42  \\\n",
              "0  46.310760   634.3750   76.45975   13.41146   16.13136  ...  31.770832   \n",
              "1  46.310760   634.3750   76.45975   13.41146   16.13136  ...  31.770832   \n",
              "2  46.397570   638.8889   73.54598   13.32465   16.03733  ...  31.770830   \n",
              "3  46.397568   628.1250   76.98898   13.31742   16.24711  ...  31.510420   \n",
              "4  46.397568   636.4583   76.58897   13.35359   16.21094  ...  31.510420   \n",
              "\n",
              "   sensor_43  sensor_44  sensor_45  sensor_46  sensor_47  sensor_48  \\\n",
              "0   41.92708  39.641200   65.68287   50.92593  38.194440   157.9861   \n",
              "1   41.92708  39.641200   65.68287   50.92593  38.194440   157.9861   \n",
              "2   41.66666  39.351852   65.39352   51.21528  38.194443   155.9606   \n",
              "3   40.88541  39.062500   64.81481   51.21528  38.194440   155.9606   \n",
              "4   41.40625  38.773150   65.10416   51.79398  38.773150   158.2755   \n",
              "\n",
              "   sensor_49  sensor_51         rul  \n",
              "0   67.70834   201.3889  285.916667  \n",
              "1   67.70834   201.3889  285.900000  \n",
              "2   67.12963   203.7037  285.883333  \n",
              "3   66.84028   203.1250  285.866667  \n",
              "4   66.55093   201.3889  285.850000  \n",
              "\n",
              "[5 rows x 53 columns]"
            ]
          },
          "execution_count": 51,
          "metadata": {},
          "output_type": "execute_result"
        }
      ],
      "source": [
        "df_2.head()"
      ]
    },
    {
      "cell_type": "code",
      "execution_count": null,
      "metadata": {
        "id": "y-VDTCRU5cKn"
      },
      "outputs": [],
      "source": [
        "#df_2 = df_2.sample(n=5000, random_state=1)"
      ]
    },
    {
      "cell_type": "code",
      "execution_count": 68,
      "metadata": {
        "colab": {
          "base_uri": "https://localhost:8080/",
          "height": 35
        },
        "id": "Fy8lyOgopNBE",
        "outputId": "ef0f5ce4-d439-4091-e946-ca1bdcb59b16"
      },
      "outputs": [
        {
          "data": {
            "application/vnd.google.colaboratory.intrinsic+json": {
              "type": "string"
            },
            "text/plain": [
              "'2018-07-25 14:00:00'"
            ]
          },
          "execution_count": 68,
          "metadata": {},
          "output_type": "execute_result"
        }
      ],
      "source": [
        "df_2[\"timestamp\"].max()"
      ]
    },
    {
      "cell_type": "code",
      "execution_count": 25,
      "metadata": {
        "id": "c1sgRQw41POX"
      },
      "outputs": [],
      "source": [
        "df_2 = df_2[(df_2[\"timestamp\"]<\"2018-05-01 00:00:00\") & (df_2[\"timestamp\"]>=\"2018-04-01 00:00:00\")]"
      ]
    },
    {
      "cell_type": "code",
      "execution_count": null,
      "metadata": {
        "id": "WV621Afe2XCI"
      },
      "outputs": [],
      "source": [
        "#df_2['timestamp'] = pd.to_datetime(df_2['timestamp']).values.astype(float)"
      ]
    },
    {
      "cell_type": "code",
      "execution_count": null,
      "metadata": {
        "id": "598tbkp41Fs4"
      },
      "outputs": [],
      "source": [
        "#X_2 = df_2[df_2.columns[2 : -1]]\n",
        "#y_2 = df_2[\"rul\"]"
      ]
    },
    {
      "cell_type": "code",
      "execution_count": null,
      "metadata": {
        "id": "80RtDuIK1aAX"
      },
      "outputs": [],
      "source": [
        "#from sklearn.model_selection import train_test_split\n",
        "#X_train_2, X_test_2, y_train_2, y_test_2   = train_test_split(X_2, y_2, test_size=0.1)"
      ]
    },
    {
      "cell_type": "code",
      "execution_count": 26,
      "metadata": {
        "id": "KJHMy5tc1Saa"
      },
      "outputs": [],
      "source": [
        "train_2 = df_2[df_2[\"timestamp\"]<\"2018-04-21 00:00:00\"]\n",
        "cali_2 = df_2[(df_2[\"timestamp\"]>=\"2018-04-21 00:00:00\")&(df_2[\"timestamp\"]<=\"2018-04-26 00:00:00\")]\n",
        "test_2 = df_2[df_2[\"timestamp\"]>=\"2018-04-26 00:00:00\"]"
      ]
    },
    {
      "cell_type": "code",
      "execution_count": 29,
      "metadata": {
        "id": "TZCHAgqG2LX2"
      },
      "outputs": [],
      "source": [
        "X_train_2 = train_2[train_2.columns[2 : -1]]\n",
        "y_train_2 = train_2[\"rul\"]"
      ]
    },
    {
      "cell_type": "code",
      "execution_count": 30,
      "metadata": {
        "id": "AKIHi4nDjQqj"
      },
      "outputs": [],
      "source": [
        "X_cali_2 = cali_2[cali_2.columns[2 : -1]]\n",
        "y_cali_2 = cali_2[\"rul\"]"
      ]
    },
    {
      "cell_type": "code",
      "execution_count": 31,
      "metadata": {
        "id": "Xk3xpEB62Lhs"
      },
      "outputs": [],
      "source": [
        "X_test_2 = test_2[test_2.columns[2 : -1]]\n",
        "y_test_2 = test_2[\"rul\"]"
      ]
    },
    {
      "cell_type": "code",
      "execution_count": null,
      "metadata": {
        "colab": {
          "base_uri": "https://localhost:8080/",
          "height": 679
        },
        "id": "9vTqf9m32LqS",
        "outputId": "8fe972d7-94c0-4006-a11c-b6614be19029"
      },
      "outputs": [
        {
          "data": {
            "text/html": [
              "\n",
              "  <div id=\"df-3c845723-bb5f-48ee-88ab-23254d30a322\">\n",
              "    <div class=\"colab-df-container\">\n",
              "      <div>\n",
              "<style scoped>\n",
              "    .dataframe tbody tr th:only-of-type {\n",
              "        vertical-align: middle;\n",
              "    }\n",
              "\n",
              "    .dataframe tbody tr th {\n",
              "        vertical-align: top;\n",
              "    }\n",
              "\n",
              "    .dataframe thead th {\n",
              "        text-align: right;\n",
              "    }\n",
              "</style>\n",
              "<table border=\"1\" class=\"dataframe\">\n",
              "  <thead>\n",
              "    <tr style=\"text-align: right;\">\n",
              "      <th></th>\n",
              "      <th>Unnamed: 0</th>\n",
              "      <th>timestamp</th>\n",
              "      <th>sensor_00</th>\n",
              "      <th>sensor_01</th>\n",
              "      <th>sensor_02</th>\n",
              "      <th>sensor_03</th>\n",
              "      <th>sensor_04</th>\n",
              "      <th>sensor_05</th>\n",
              "      <th>sensor_06</th>\n",
              "      <th>sensor_07</th>\n",
              "      <th>...</th>\n",
              "      <th>sensor_42</th>\n",
              "      <th>sensor_43</th>\n",
              "      <th>sensor_44</th>\n",
              "      <th>sensor_45</th>\n",
              "      <th>sensor_46</th>\n",
              "      <th>sensor_47</th>\n",
              "      <th>sensor_48</th>\n",
              "      <th>sensor_49</th>\n",
              "      <th>sensor_51</th>\n",
              "      <th>rul</th>\n",
              "    </tr>\n",
              "  </thead>\n",
              "  <tbody>\n",
              "    <tr>\n",
              "      <th>36000</th>\n",
              "      <td>36000</td>\n",
              "      <td>2018-04-26 00:00:00</td>\n",
              "      <td>2.510648</td>\n",
              "      <td>46.918400</td>\n",
              "      <td>54.340270</td>\n",
              "      <td>43.663190</td>\n",
              "      <td>622.3380</td>\n",
              "      <td>92.63443</td>\n",
              "      <td>13.34635</td>\n",
              "      <td>16.21094</td>\n",
              "      <td>...</td>\n",
              "      <td>38.281250</td>\n",
              "      <td>52.34375</td>\n",
              "      <td>39.631871</td>\n",
              "      <td>37.905094</td>\n",
              "      <td>41.087960</td>\n",
              "      <td>46.875000</td>\n",
              "      <td>104.74540</td>\n",
              "      <td>53.819440</td>\n",
              "      <td>192.7083</td>\n",
              "      <td>555.300000</td>\n",
              "    </tr>\n",
              "    <tr>\n",
              "      <th>36001</th>\n",
              "      <td>36001</td>\n",
              "      <td>2018-04-26 00:01:00</td>\n",
              "      <td>2.510648</td>\n",
              "      <td>46.918400</td>\n",
              "      <td>54.340270</td>\n",
              "      <td>43.663190</td>\n",
              "      <td>622.3380</td>\n",
              "      <td>92.63443</td>\n",
              "      <td>13.34635</td>\n",
              "      <td>16.21094</td>\n",
              "      <td>...</td>\n",
              "      <td>38.281250</td>\n",
              "      <td>52.34375</td>\n",
              "      <td>39.631871</td>\n",
              "      <td>37.905094</td>\n",
              "      <td>41.087960</td>\n",
              "      <td>46.875000</td>\n",
              "      <td>104.74540</td>\n",
              "      <td>53.819440</td>\n",
              "      <td>192.7083</td>\n",
              "      <td>555.283333</td>\n",
              "    </tr>\n",
              "    <tr>\n",
              "      <th>36002</th>\n",
              "      <td>36002</td>\n",
              "      <td>2018-04-26 00:02:00</td>\n",
              "      <td>2.503762</td>\n",
              "      <td>46.961800</td>\n",
              "      <td>54.340270</td>\n",
              "      <td>43.663193</td>\n",
              "      <td>639.3518</td>\n",
              "      <td>91.92503</td>\n",
              "      <td>13.46933</td>\n",
              "      <td>16.13136</td>\n",
              "      <td>...</td>\n",
              "      <td>38.020830</td>\n",
              "      <td>52.60416</td>\n",
              "      <td>39.641200</td>\n",
              "      <td>37.905090</td>\n",
              "      <td>41.087963</td>\n",
              "      <td>47.453700</td>\n",
              "      <td>106.77080</td>\n",
              "      <td>53.530090</td>\n",
              "      <td>192.1296</td>\n",
              "      <td>555.266667</td>\n",
              "    </tr>\n",
              "    <tr>\n",
              "      <th>36003</th>\n",
              "      <td>36003</td>\n",
              "      <td>2018-04-26 00:03:00</td>\n",
              "      <td>2.510648</td>\n",
              "      <td>46.961803</td>\n",
              "      <td>54.991320</td>\n",
              "      <td>43.663190</td>\n",
              "      <td>631.0185</td>\n",
              "      <td>93.66400</td>\n",
              "      <td>13.41146</td>\n",
              "      <td>16.16753</td>\n",
              "      <td>...</td>\n",
              "      <td>38.020830</td>\n",
              "      <td>52.34375</td>\n",
              "      <td>40.798610</td>\n",
              "      <td>38.194440</td>\n",
              "      <td>41.087963</td>\n",
              "      <td>46.875000</td>\n",
              "      <td>112.55790</td>\n",
              "      <td>53.530090</td>\n",
              "      <td>191.5509</td>\n",
              "      <td>555.250000</td>\n",
              "    </tr>\n",
              "    <tr>\n",
              "      <th>36004</th>\n",
              "      <td>36004</td>\n",
              "      <td>2018-04-26 00:04:00</td>\n",
              "      <td>2.500810</td>\n",
              "      <td>46.961803</td>\n",
              "      <td>54.296870</td>\n",
              "      <td>43.619790</td>\n",
              "      <td>628.3564</td>\n",
              "      <td>92.31725</td>\n",
              "      <td>13.44763</td>\n",
              "      <td>16.13136</td>\n",
              "      <td>...</td>\n",
              "      <td>37.760410</td>\n",
              "      <td>52.34375</td>\n",
              "      <td>41.666670</td>\n",
              "      <td>38.194440</td>\n",
              "      <td>41.087960</td>\n",
              "      <td>46.585648</td>\n",
              "      <td>118.92360</td>\n",
              "      <td>52.662040</td>\n",
              "      <td>192.1296</td>\n",
              "      <td>555.233333</td>\n",
              "    </tr>\n",
              "    <tr>\n",
              "      <th>...</th>\n",
              "      <td>...</td>\n",
              "      <td>...</td>\n",
              "      <td>...</td>\n",
              "      <td>...</td>\n",
              "      <td>...</td>\n",
              "      <td>...</td>\n",
              "      <td>...</td>\n",
              "      <td>...</td>\n",
              "      <td>...</td>\n",
              "      <td>...</td>\n",
              "      <td>...</td>\n",
              "      <td>...</td>\n",
              "      <td>...</td>\n",
              "      <td>...</td>\n",
              "      <td>...</td>\n",
              "      <td>...</td>\n",
              "      <td>...</td>\n",
              "      <td>...</td>\n",
              "      <td>...</td>\n",
              "      <td>...</td>\n",
              "      <td>...</td>\n",
              "    </tr>\n",
              "    <tr>\n",
              "      <th>43195</th>\n",
              "      <td>43195</td>\n",
              "      <td>2018-04-30 23:55:00</td>\n",
              "      <td>2.453588</td>\n",
              "      <td>44.965275</td>\n",
              "      <td>50.434020</td>\n",
              "      <td>41.319440</td>\n",
              "      <td>633.7963</td>\n",
              "      <td>71.82919</td>\n",
              "      <td>13.65017</td>\n",
              "      <td>15.63223</td>\n",
              "      <td>...</td>\n",
              "      <td>30.989580</td>\n",
              "      <td>39.58333</td>\n",
              "      <td>38.773150</td>\n",
              "      <td>34.722220</td>\n",
              "      <td>37.326390</td>\n",
              "      <td>37.615742</td>\n",
              "      <td>62.21065</td>\n",
              "      <td>45.138889</td>\n",
              "      <td>169.2708</td>\n",
              "      <td>435.383333</td>\n",
              "    </tr>\n",
              "    <tr>\n",
              "      <th>43196</th>\n",
              "      <td>43196</td>\n",
              "      <td>2018-04-30 23:56:00</td>\n",
              "      <td>2.453588</td>\n",
              "      <td>44.965275</td>\n",
              "      <td>50.434025</td>\n",
              "      <td>41.319443</td>\n",
              "      <td>625.9259</td>\n",
              "      <td>73.48293</td>\n",
              "      <td>13.59954</td>\n",
              "      <td>15.62500</td>\n",
              "      <td>...</td>\n",
              "      <td>30.468750</td>\n",
              "      <td>39.32291</td>\n",
              "      <td>37.905090</td>\n",
              "      <td>34.722220</td>\n",
              "      <td>36.747680</td>\n",
              "      <td>37.615742</td>\n",
              "      <td>61.05324</td>\n",
              "      <td>44.849540</td>\n",
              "      <td>168.1134</td>\n",
              "      <td>435.366667</td>\n",
              "    </tr>\n",
              "    <tr>\n",
              "      <th>43197</th>\n",
              "      <td>43197</td>\n",
              "      <td>2018-04-30 23:57:00</td>\n",
              "      <td>2.455556</td>\n",
              "      <td>44.965275</td>\n",
              "      <td>50.434025</td>\n",
              "      <td>41.319443</td>\n",
              "      <td>630.6713</td>\n",
              "      <td>77.00027</td>\n",
              "      <td>13.64294</td>\n",
              "      <td>15.66117</td>\n",
              "      <td>...</td>\n",
              "      <td>30.468748</td>\n",
              "      <td>39.58333</td>\n",
              "      <td>37.615742</td>\n",
              "      <td>34.432870</td>\n",
              "      <td>36.747684</td>\n",
              "      <td>37.615742</td>\n",
              "      <td>59.89583</td>\n",
              "      <td>44.849540</td>\n",
              "      <td>166.9560</td>\n",
              "      <td>435.350000</td>\n",
              "    </tr>\n",
              "    <tr>\n",
              "      <th>43198</th>\n",
              "      <td>43198</td>\n",
              "      <td>2018-04-30 23:58:00</td>\n",
              "      <td>2.454572</td>\n",
              "      <td>44.965275</td>\n",
              "      <td>50.434020</td>\n",
              "      <td>41.319443</td>\n",
              "      <td>632.0602</td>\n",
              "      <td>75.79302</td>\n",
              "      <td>13.59954</td>\n",
              "      <td>15.66117</td>\n",
              "      <td>...</td>\n",
              "      <td>30.468748</td>\n",
              "      <td>39.06250</td>\n",
              "      <td>36.747680</td>\n",
              "      <td>34.432870</td>\n",
              "      <td>36.747680</td>\n",
              "      <td>37.905090</td>\n",
              "      <td>58.15972</td>\n",
              "      <td>44.560180</td>\n",
              "      <td>163.4838</td>\n",
              "      <td>435.333333</td>\n",
              "    </tr>\n",
              "    <tr>\n",
              "      <th>43199</th>\n",
              "      <td>43199</td>\n",
              "      <td>2018-04-30 23:59:00</td>\n",
              "      <td>2.453588</td>\n",
              "      <td>44.965270</td>\n",
              "      <td>50.390620</td>\n",
              "      <td>41.319443</td>\n",
              "      <td>644.2130</td>\n",
              "      <td>76.47243</td>\n",
              "      <td>13.61400</td>\n",
              "      <td>15.62500</td>\n",
              "      <td>...</td>\n",
              "      <td>30.468748</td>\n",
              "      <td>39.06250</td>\n",
              "      <td>36.747680</td>\n",
              "      <td>34.432870</td>\n",
              "      <td>36.747680</td>\n",
              "      <td>37.905090</td>\n",
              "      <td>58.15972</td>\n",
              "      <td>44.560180</td>\n",
              "      <td>163.4838</td>\n",
              "      <td>435.316667</td>\n",
              "    </tr>\n",
              "  </tbody>\n",
              "</table>\n",
              "<p>7200 rows × 53 columns</p>\n",
              "</div>\n",
              "      <button class=\"colab-df-convert\" onclick=\"convertToInteractive('df-3c845723-bb5f-48ee-88ab-23254d30a322')\"\n",
              "              title=\"Convert this dataframe to an interactive table.\"\n",
              "              style=\"display:none;\">\n",
              "        \n",
              "  <svg xmlns=\"http://www.w3.org/2000/svg\" height=\"24px\"viewBox=\"0 0 24 24\"\n",
              "       width=\"24px\">\n",
              "    <path d=\"M0 0h24v24H0V0z\" fill=\"none\"/>\n",
              "    <path d=\"M18.56 5.44l.94 2.06.94-2.06 2.06-.94-2.06-.94-.94-2.06-.94 2.06-2.06.94zm-11 1L8.5 8.5l.94-2.06 2.06-.94-2.06-.94L8.5 2.5l-.94 2.06-2.06.94zm10 10l.94 2.06.94-2.06 2.06-.94-2.06-.94-.94-2.06-.94 2.06-2.06.94z\"/><path d=\"M17.41 7.96l-1.37-1.37c-.4-.4-.92-.59-1.43-.59-.52 0-1.04.2-1.43.59L10.3 9.45l-7.72 7.72c-.78.78-.78 2.05 0 2.83L4 21.41c.39.39.9.59 1.41.59.51 0 1.02-.2 1.41-.59l7.78-7.78 2.81-2.81c.8-.78.8-2.07 0-2.86zM5.41 20L4 18.59l7.72-7.72 1.47 1.35L5.41 20z\"/>\n",
              "  </svg>\n",
              "      </button>\n",
              "      \n",
              "  <style>\n",
              "    .colab-df-container {\n",
              "      display:flex;\n",
              "      flex-wrap:wrap;\n",
              "      gap: 12px;\n",
              "    }\n",
              "\n",
              "    .colab-df-convert {\n",
              "      background-color: #E8F0FE;\n",
              "      border: none;\n",
              "      border-radius: 50%;\n",
              "      cursor: pointer;\n",
              "      display: none;\n",
              "      fill: #1967D2;\n",
              "      height: 32px;\n",
              "      padding: 0 0 0 0;\n",
              "      width: 32px;\n",
              "    }\n",
              "\n",
              "    .colab-df-convert:hover {\n",
              "      background-color: #E2EBFA;\n",
              "      box-shadow: 0px 1px 2px rgba(60, 64, 67, 0.3), 0px 1px 3px 1px rgba(60, 64, 67, 0.15);\n",
              "      fill: #174EA6;\n",
              "    }\n",
              "\n",
              "    [theme=dark] .colab-df-convert {\n",
              "      background-color: #3B4455;\n",
              "      fill: #D2E3FC;\n",
              "    }\n",
              "\n",
              "    [theme=dark] .colab-df-convert:hover {\n",
              "      background-color: #434B5C;\n",
              "      box-shadow: 0px 1px 3px 1px rgba(0, 0, 0, 0.15);\n",
              "      filter: drop-shadow(0px 1px 2px rgba(0, 0, 0, 0.3));\n",
              "      fill: #FFFFFF;\n",
              "    }\n",
              "  </style>\n",
              "\n",
              "      <script>\n",
              "        const buttonEl =\n",
              "          document.querySelector('#df-3c845723-bb5f-48ee-88ab-23254d30a322 button.colab-df-convert');\n",
              "        buttonEl.style.display =\n",
              "          google.colab.kernel.accessAllowed ? 'block' : 'none';\n",
              "\n",
              "        async function convertToInteractive(key) {\n",
              "          const element = document.querySelector('#df-3c845723-bb5f-48ee-88ab-23254d30a322');\n",
              "          const dataTable =\n",
              "            await google.colab.kernel.invokeFunction('convertToInteractive',\n",
              "                                                     [key], {});\n",
              "          if (!dataTable) return;\n",
              "\n",
              "          const docLinkHtml = 'Like what you see? Visit the ' +\n",
              "            '<a target=\"_blank\" href=https://colab.research.google.com/notebooks/data_table.ipynb>data table notebook</a>'\n",
              "            + ' to learn more about interactive tables.';\n",
              "          element.innerHTML = '';\n",
              "          dataTable['output_type'] = 'display_data';\n",
              "          await google.colab.output.renderOutput(dataTable, element);\n",
              "          const docLink = document.createElement('div');\n",
              "          docLink.innerHTML = docLinkHtml;\n",
              "          element.appendChild(docLink);\n",
              "        }\n",
              "      </script>\n",
              "    </div>\n",
              "  </div>\n",
              "  "
            ],
            "text/plain": [
              "       Unnamed: 0            timestamp  sensor_00  sensor_01  sensor_02  \\\n",
              "36000       36000  2018-04-26 00:00:00   2.510648  46.918400  54.340270   \n",
              "36001       36001  2018-04-26 00:01:00   2.510648  46.918400  54.340270   \n",
              "36002       36002  2018-04-26 00:02:00   2.503762  46.961800  54.340270   \n",
              "36003       36003  2018-04-26 00:03:00   2.510648  46.961803  54.991320   \n",
              "36004       36004  2018-04-26 00:04:00   2.500810  46.961803  54.296870   \n",
              "...           ...                  ...        ...        ...        ...   \n",
              "43195       43195  2018-04-30 23:55:00   2.453588  44.965275  50.434020   \n",
              "43196       43196  2018-04-30 23:56:00   2.453588  44.965275  50.434025   \n",
              "43197       43197  2018-04-30 23:57:00   2.455556  44.965275  50.434025   \n",
              "43198       43198  2018-04-30 23:58:00   2.454572  44.965275  50.434020   \n",
              "43199       43199  2018-04-30 23:59:00   2.453588  44.965270  50.390620   \n",
              "\n",
              "       sensor_03  sensor_04  sensor_05  sensor_06  sensor_07  ...  sensor_42  \\\n",
              "36000  43.663190   622.3380   92.63443   13.34635   16.21094  ...  38.281250   \n",
              "36001  43.663190   622.3380   92.63443   13.34635   16.21094  ...  38.281250   \n",
              "36002  43.663193   639.3518   91.92503   13.46933   16.13136  ...  38.020830   \n",
              "36003  43.663190   631.0185   93.66400   13.41146   16.16753  ...  38.020830   \n",
              "36004  43.619790   628.3564   92.31725   13.44763   16.13136  ...  37.760410   \n",
              "...          ...        ...        ...        ...        ...  ...        ...   \n",
              "43195  41.319440   633.7963   71.82919   13.65017   15.63223  ...  30.989580   \n",
              "43196  41.319443   625.9259   73.48293   13.59954   15.62500  ...  30.468750   \n",
              "43197  41.319443   630.6713   77.00027   13.64294   15.66117  ...  30.468748   \n",
              "43198  41.319443   632.0602   75.79302   13.59954   15.66117  ...  30.468748   \n",
              "43199  41.319443   644.2130   76.47243   13.61400   15.62500  ...  30.468748   \n",
              "\n",
              "       sensor_43  sensor_44  sensor_45  sensor_46  sensor_47  sensor_48  \\\n",
              "36000   52.34375  39.631871  37.905094  41.087960  46.875000  104.74540   \n",
              "36001   52.34375  39.631871  37.905094  41.087960  46.875000  104.74540   \n",
              "36002   52.60416  39.641200  37.905090  41.087963  47.453700  106.77080   \n",
              "36003   52.34375  40.798610  38.194440  41.087963  46.875000  112.55790   \n",
              "36004   52.34375  41.666670  38.194440  41.087960  46.585648  118.92360   \n",
              "...          ...        ...        ...        ...        ...        ...   \n",
              "43195   39.58333  38.773150  34.722220  37.326390  37.615742   62.21065   \n",
              "43196   39.32291  37.905090  34.722220  36.747680  37.615742   61.05324   \n",
              "43197   39.58333  37.615742  34.432870  36.747684  37.615742   59.89583   \n",
              "43198   39.06250  36.747680  34.432870  36.747680  37.905090   58.15972   \n",
              "43199   39.06250  36.747680  34.432870  36.747680  37.905090   58.15972   \n",
              "\n",
              "       sensor_49  sensor_51         rul  \n",
              "36000  53.819440   192.7083  555.300000  \n",
              "36001  53.819440   192.7083  555.283333  \n",
              "36002  53.530090   192.1296  555.266667  \n",
              "36003  53.530090   191.5509  555.250000  \n",
              "36004  52.662040   192.1296  555.233333  \n",
              "...          ...        ...         ...  \n",
              "43195  45.138889   169.2708  435.383333  \n",
              "43196  44.849540   168.1134  435.366667  \n",
              "43197  44.849540   166.9560  435.350000  \n",
              "43198  44.560180   163.4838  435.333333  \n",
              "43199  44.560180   163.4838  435.316667  \n",
              "\n",
              "[7200 rows x 53 columns]"
            ]
          },
          "execution_count": 32,
          "metadata": {},
          "output_type": "execute_result"
        }
      ],
      "source": [
        "test_2"
      ]
    },
    {
      "cell_type": "code",
      "execution_count": null,
      "metadata": {
        "id": "uj9zqY7MIP9-"
      },
      "outputs": [],
      "source": [
        "test_2[[\"timestamp\", \"rul\"]].plot.line()"
      ]
    },
    {
      "cell_type": "code",
      "execution_count": null,
      "metadata": {
        "id": "o393bO_uXjs2"
      },
      "outputs": [],
      "source": []
    },
    {
      "cell_type": "markdown",
      "metadata": {
        "id": "1DXvhhffSx8k"
      },
      "source": [
        "## Models and conformal predictions"
      ]
    },
    {
      "cell_type": "code",
      "execution_count": 10,
      "metadata": {
        "id": "M6sc4CRbAMDV"
      },
      "outputs": [],
      "source": [
        "from sklearn.ensemble import RandomForestRegressor\n",
        "from sklearn.datasets import make_regression\n",
        "\n",
        "def random_forest(X_train, y_train, X_test):\n",
        "  regr = RandomForestRegressor(max_depth=2, random_state=0)\n",
        "  model = regr.fit(X_train, y_train)\n",
        "\n",
        "  return model"
      ]
    },
    {
      "cell_type": "code",
      "execution_count": 63,
      "metadata": {
        "id": "e13CHi-UdHG0"
      },
      "outputs": [],
      "source": [
        "from sklearn.svm import SVR\n",
        "def svr(X_train, y_train, X_test):\n",
        "  svr = SVR().fit(X_train, y_train)\n",
        "  return svr\n"
      ]
    },
    {
      "cell_type": "code",
      "execution_count": 12,
      "metadata": {
        "id": "BjwNox82EQHk"
      },
      "outputs": [],
      "source": [
        "from mapie.regression import MapieRegressor\n",
        "\n",
        "def conformal_prediction(model, a, X_cali, y_cali, X_test):\n",
        "  mapie = MapieRegressor(estimator=model)\n",
        "  mapie_reg = mapie.fit(X_cali, y_cali)\n",
        "  y_pred, y_pis = mapie_reg.predict(X_test, alpha=a)\n",
        "\n",
        "  return y_pred, y_pis"
      ]
    },
    {
      "cell_type": "markdown",
      "metadata": {
        "id": "otjQchsIS9fU"
      },
      "source": [
        "## Plotting functions"
      ]
    },
    {
      "cell_type": "code",
      "execution_count": 13,
      "metadata": {
        "id": "_dEXAEPeGXPV"
      },
      "outputs": [],
      "source": [
        "import matplotlib.pyplot as plt\n",
        "\n",
        "def plot_without_cp(y_test, y_pred):\n",
        "  x = np.arange(1,len(y_pred)+1)\n",
        "\n",
        "  plt.figure(figsize=(18,6))\n",
        "\n",
        "  plt.plot(x,y_pred)\n",
        "  plt.plot(x,y_test)\n",
        "  plt.xlabel('test set')\n",
        "  plt.ylabel('RUL')\n",
        "  plt.title('Predictive maintenance RUL of test set')\n",
        "  plt.legend([\"prediction\",\"true\"])\n",
        "  plt.grid(True)\n",
        "  plt.show()"
      ]
    },
    {
      "cell_type": "code",
      "execution_count": 14,
      "metadata": {
        "id": "GAK6Smq0EQK4"
      },
      "outputs": [],
      "source": [
        "def plot_with_cp(y_test, y_pred, y_pis, confidence):\n",
        "  x = np.arange(1,len(y_pred)+1)\n",
        "\n",
        "  plt.figure(figsize=(18,6))\n",
        "\n",
        "  plt.plot(x,y_pred)\n",
        "  plt.plot(x,y_test)\n",
        "\n",
        "  #plt.plot(x[0:100],y_pis[:,0][0:100])\n",
        "  #plt.plot(x[0:100],y_pis[:,1][0:100])\n",
        "\n",
        "  plt.fill_between(x, y_pis[:,0].flatten(), y_pis[:,1].flatten(), alpha=0.2, color='tab:green')\n",
        "\n",
        "  plt.xlabel('test set')\n",
        "  plt.ylabel('RUL')\n",
        "  plt.title('Predictive maintenance RUL with confidence of ' + confidence +'%')\n",
        "  plt.legend([\"prediction\",\"true\",confidence + \"% confidence interval\"])\n",
        "  plt.grid(True)\n",
        "  plt.show()"
      ]
    },
    {
      "cell_type": "code",
      "execution_count": null,
      "metadata": {
        "id": "zA65HReJQak2"
      },
      "outputs": [],
      "source": []
    },
    {
      "cell_type": "markdown",
      "metadata": {
        "id": "diyZnCfETF-n"
      },
      "source": [
        "## Random forest"
      ]
    },
    {
      "cell_type": "markdown",
      "metadata": {
        "id": "KnCcIe9w1qEO"
      },
      "source": [
        "### 1st dataset"
      ]
    },
    {
      "cell_type": "code",
      "execution_count": 54,
      "metadata": {
        "id": "71bzV63tQana"
      },
      "outputs": [],
      "source": [
        "rf_model = random_forest(X_train, y_train, X_test)"
      ]
    },
    {
      "cell_type": "code",
      "execution_count": 55,
      "metadata": {
        "id": "HvHbwluhQaqC"
      },
      "outputs": [],
      "source": [
        "y_pred_rf, y_pis_rf = conformal_prediction(rf_model,0.1, X_cali, y_cali, X_test)"
      ]
    },
    {
      "cell_type": "code",
      "execution_count": 56,
      "metadata": {
        "colab": {
          "base_uri": "https://localhost:8080/"
        },
        "id": "lFUt7DTmRFEo",
        "outputId": "f57399df-4e57-4f5b-98ad-ee3fc1762ee2"
      },
      "outputs": [
        {
          "data": {
            "text/plain": [
              "-1.0763058370942185"
            ]
          },
          "execution_count": 56,
          "metadata": {},
          "output_type": "execute_result"
        }
      ],
      "source": [
        "from sklearn.metrics import r2_score\n",
        "r2_score(y_test, y_pred_rf)"
      ]
    },
    {
      "cell_type": "code",
      "execution_count": 57,
      "metadata": {
        "colab": {
          "base_uri": "https://localhost:8080/"
        },
        "id": "fX0H__iB0_GY",
        "outputId": "6f5ebd65-f596-4484-e74f-9bf4755c69ac"
      },
      "outputs": [
        {
          "data": {
            "text/plain": [
              "array([35.30596375, 35.30596375, 35.30596375, ..., 10.76564559,\n",
              "       10.76564559, 10.76564559])"
            ]
          },
          "execution_count": 57,
          "metadata": {},
          "output_type": "execute_result"
        }
      ],
      "source": [
        "y_pred_rf"
      ]
    },
    {
      "cell_type": "code",
      "execution_count": 26,
      "metadata": {
        "colab": {
          "base_uri": "https://localhost:8080/"
        },
        "id": "8DTTNFjG1B3a",
        "outputId": "f85288dd-5c2c-428d-ffa9-7d5151038253"
      },
      "outputs": [
        {
          "data": {
            "text/plain": [
              "35714    27.1\n",
              "35715    27.0\n",
              "35716    26.9\n",
              "35717    26.8\n",
              "35718    26.7\n",
              "         ... \n",
              "39409     8.2\n",
              "39410     8.1\n",
              "39411     8.0\n",
              "39412     7.9\n",
              "39413     7.8\n",
              "Name: RUL, Length: 3700, dtype: float64"
            ]
          },
          "execution_count": 26,
          "metadata": {},
          "output_type": "execute_result"
        }
      ],
      "source": [
        "y_test"
      ]
    },
    {
      "cell_type": "code",
      "execution_count": 59,
      "metadata": {
        "colab": {
          "base_uri": "https://localhost:8080/",
          "height": 421
        },
        "id": "OnT0NBPjEQO1",
        "outputId": "58ece5dd-25f6-4744-8762-edbf3521308d"
      },
      "outputs": [
        {
          "data": {
            "image/png": "[encoded data removed]",
            "text/plain": [
              "<Figure size 1800x600 with 1 Axes>"
            ]
          },
          "metadata": {},
          "output_type": "display_data"
        }
      ],
      "source": [
        "plot_with_cp(y_test, y_pred_rf, y_pis_rf, \"90\")"
      ]
    },
    {
      "cell_type": "code",
      "execution_count": null,
      "metadata": {
        "id": "JPDbMLMXecyh"
      },
      "outputs": [],
      "source": []
    },
    {
      "cell_type": "markdown",
      "metadata": {
        "id": "tXmxVpxo11R7"
      },
      "source": [
        "### 2nd dataset"
      ]
    },
    {
      "cell_type": "code",
      "execution_count": 33,
      "metadata": {
        "id": "vQeTgFNT13UK"
      },
      "outputs": [],
      "source": [
        "rf_model_2 = random_forest(X_train_2, y_train_2, X_test_2)"
      ]
    },
    {
      "cell_type": "code",
      "execution_count": 40,
      "metadata": {
        "id": "bbqyTzpi13W_"
      },
      "outputs": [],
      "source": [
        "y_pred_rf_2, y_pis_rf_2 = conformal_prediction(rf_model_2, 0.1, X_cali_2, y_cali_2, X_test_2)"
      ]
    },
    {
      "cell_type": "code",
      "execution_count": 41,
      "metadata": {
        "colab": {
          "base_uri": "https://localhost:8080/"
        },
        "id": "1yJi3lDz13Z1",
        "outputId": "de9c89f3-75d2-4d17-c509-4d78a1b4f0c3"
      },
      "outputs": [
        {
          "data": {
            "text/plain": [
              "-8.320524594328687"
            ]
          },
          "execution_count": 41,
          "metadata": {},
          "output_type": "execute_result"
        }
      ],
      "source": [
        "from sklearn.metrics import r2_score\n",
        "r2_score(y_test_2, y_pred_rf_2)"
      ]
    },
    {
      "cell_type": "code",
      "execution_count": 43,
      "metadata": {
        "colab": {
          "base_uri": "https://localhost:8080/"
        },
        "id": "a-7R6cn-2yRc",
        "outputId": "c16a50f8-498f-43e1-d8ab-cb1138639bf6"
      },
      "outputs": [
        {
          "data": {
            "text/plain": [
              "11184.629297441543"
            ]
          },
          "execution_count": 43,
          "metadata": {},
          "output_type": "execute_result"
        }
      ],
      "source": [
        "from sklearn.metrics import mean_squared_error\n",
        "mean_squared_error(y_test_2, y_pred_rf_2)"
      ]
    },
    {
      "cell_type": "code",
      "execution_count": null,
      "metadata": {
        "colab": {
          "base_uri": "https://localhost:8080/",
          "height": 418
        },
        "id": "dT7OeGaQ13dA",
        "outputId": "2900c614-4c05-475e-965e-8e0dd181f1e5"
      },
      "outputs": [
        {
          "data": {
            "image/png": "[encoded data removed]",
            "text/plain": [
              "<Figure size 1800x600 with 1 Axes>"
            ]
          },
          "metadata": {},
          "output_type": "display_data"
        }
      ],
      "source": [
        "plot_with_cp(y_test_2, y_pred_rf_2, y_pis_rf_2, \"90\")"
      ]
    },
    {
      "cell_type": "markdown",
      "metadata": {
        "id": "CAdNU3YBf6aP"
      },
      "source": [
        "## SVR"
      ]
    },
    {
      "cell_type": "markdown",
      "metadata": {
        "id": "YxgHxj2E6jCy"
      },
      "source": [
        "### 1st dataset"
      ]
    },
    {
      "cell_type": "code",
      "execution_count": 44,
      "metadata": {
        "id": "5_NXR7LWec1E"
      },
      "outputs": [],
      "source": [
        "svr_model = svr(X_train, y_train, X_test)"
      ]
    },
    {
      "cell_type": "code",
      "execution_count": 45,
      "metadata": {
        "id": "u0e9Pn9Pec3Z"
      },
      "outputs": [],
      "source": [
        "y_pred_svr, y_pis_svr = conformal_prediction(svr_model,0.1,X_cali, y_cali, X_test)"
      ]
    },
    {
      "cell_type": "code",
      "execution_count": 46,
      "metadata": {
        "colab": {
          "base_uri": "https://localhost:8080/"
        },
        "id": "K9fG7-UTemTn",
        "outputId": "fc0d6fde-cf81-4971-8602-aa5e9ed0ef59"
      },
      "outputs": [
        {
          "data": {
            "text/plain": [
              "-1.2138868383514128"
            ]
          },
          "execution_count": 46,
          "metadata": {},
          "output_type": "execute_result"
        }
      ],
      "source": [
        "from sklearn.metrics import r2_score\n",
        "r2_score(y_test, y_pred_svr)"
      ]
    },
    {
      "cell_type": "code",
      "execution_count": null,
      "metadata": {
        "id": "Pm6XyyKHenx2"
      },
      "outputs": [],
      "source": [
        "plot_without_cp(y_test, y_pred_svr)"
      ]
    },
    {
      "cell_type": "code",
      "execution_count": 48,
      "metadata": {
        "colab": {
          "base_uri": "https://localhost:8080/",
          "height": 421
        },
        "id": "1VoJ1hJTesf-",
        "outputId": "f5dc15bf-b677-4d91-8f17-50fae484453a"
      },
      "outputs": [
        {
          "data": {
            "image/png": "[encoded data removed]",
            "text/plain": [
              "<Figure size 1800x600 with 1 Axes>"
            ]
          },
          "metadata": {},
          "output_type": "display_data"
        }
      ],
      "source": [
        "plot_with_cp(y_test, y_pred_svr, y_pis_svr, \"90\")"
      ]
    },
    {
      "cell_type": "markdown",
      "metadata": {
        "id": "G18M4Qnb6lc8"
      },
      "source": [
        "### 2nd dataset"
      ]
    },
    {
      "cell_type": "code",
      "execution_count": 34,
      "metadata": {
        "id": "_BBN6_dR6nWQ"
      },
      "outputs": [],
      "source": [
        "svr_model_2 = svr(X_train_2, y_train_2, X_test_2)"
      ]
    },
    {
      "cell_type": "code",
      "execution_count": 35,
      "metadata": {
        "id": "gqMBKCd96qrS"
      },
      "outputs": [],
      "source": [
        "y_pred_svr_2, y_pis_svr_2 = conformal_prediction(svr_model_2,0.1,X_cali_2, y_cali_2, X_test_2)"
      ]
    },
    {
      "cell_type": "code",
      "execution_count": 36,
      "metadata": {
        "colab": {
          "base_uri": "https://localhost:8080/"
        },
        "id": "-StWrTQ46qtl",
        "outputId": "6a54495e-e4f4-49ec-8106-df353ef86a70"
      },
      "outputs": [
        {
          "data": {
            "text/plain": [
              "-13.661308268291288"
            ]
          },
          "execution_count": 36,
          "metadata": {},
          "output_type": "execute_result"
        }
      ],
      "source": [
        "from sklearn.metrics import r2_score\n",
        "r2_score(y_test_2, y_pred_svr_2)"
      ]
    },
    {
      "cell_type": "code",
      "execution_count": 37,
      "metadata": {
        "colab": {
          "base_uri": "https://localhost:8080/"
        },
        "id": "ieI9kcHsWWPA",
        "outputId": "0b006e97-bbda-4b34-8c27-edfc73ef4591"
      },
      "outputs": [
        {
          "data": {
            "text/plain": [
              "17593.569582567412"
            ]
          },
          "execution_count": 37,
          "metadata": {},
          "output_type": "execute_result"
        }
      ],
      "source": [
        "from sklearn.metrics import mean_squared_error\n",
        "mean_squared_error(y_test_2, y_pred_svr_2)"
      ]
    },
    {
      "cell_type": "code",
      "execution_count": 38,
      "metadata": {
        "colab": {
          "base_uri": "https://localhost:8080/",
          "height": 421
        },
        "id": "P7VgOK-w6qwO",
        "outputId": "882ae598-a89f-46bf-98ca-4c35d74b2fa5"
      },
      "outputs": [
        {
          "data": {
            "image/png": "[encoded data removed]",
            "text/plain": [
              "<Figure size 1800x600 with 1 Axes>"
            ]
          },
          "metadata": {},
          "output_type": "display_data"
        }
      ],
      "source": [
        "plot_with_cp(y_test_2, y_pred_svr_2, y_pis_svr_2, \"90\")"
      ]
    },
    {
      "cell_type": "code",
      "execution_count": null,
      "metadata": {
        "id": "fRfhfMoovOSi"
      },
      "outputs": [],
      "source": []
    }
  ],
  "metadata": {
    "colab": {
      "provenance": []
    },
    "gpuClass": "standard",
    "kernelspec": {
      "display_name": "Python 3",
      "name": "python3"
    },
    "language_info": {
      "name": "python"
    }
  },
  "nbformat": 4,
  "nbformat_minor": 0
}
